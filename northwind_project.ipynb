{
 "cells": [
  {
   "cell_type": "code",
   "execution_count": 0,
   "metadata": {
    "application/vnd.databricks.v1+cell": {
     "cellMetadata": {
      "byteLimit": 2048000,
      "rowLimit": 10000
     },
     "inputWidgets": {},
     "nuid": "400380e4-d74d-4c09-a072-534491a3c77c",
     "showTitle": false,
     "title": ""
    }
   },
   "outputs": [],
   "source": [
    "file_links = {\n",
    "      \"categories\": \"s3://2u-data-curriculum-team/dataviz-classroom/v1.2/22-big-data/4/categories.csv\",\n",
    "      \"customers\": \"s3://2u-data-curriculum-team/dataviz-classroom/v1.2/22-big-data/4/customers.csv\",\n",
    "      \"employee_territories\": \"s3://2u-data-curriculum-team/dataviz-classroom/v1.2/22-big-data/4/employee-territories.csv\",\n",
    "      \"employees\": \"s3://2u-data-curriculum-team/dataviz-classroom/v1.2/22-big-data/4/employees.csv\",\n",
    "      \"order_details\": \"s3://2u-data-curriculum-team/dataviz-classroom/v1.2/22-big-data/4/order-details.csv\",\n",
    "      \"orders\": \"s3://2u-data-curriculum-team/dataviz-classroom/v1.2/22-big-data/4/orders.csv\",\n",
    "      \"products\": \"s3://2u-data-curriculum-team/dataviz-classroom/v1.2/22-big-data/4/products.csv\",\n",
    "      \"regions\": \"s3://2u-data-curriculum-team/dataviz-classroom/v1.2/22-big-data/4/regions.csv\",\n",
    "      \"shippers\": \"s3://2u-data-curriculum-team/dataviz-classroom/v1.2/22-big-data/4/shippers.csv\",\n",
    "      \"suppliers\": \"s3://2u-data-curriculum-team/dataviz-classroom/v1.2/22-big-data/4/suppliers.csv\",\n",
    "      \"territories\": \"s3://2u-data-curriculum-team/dataviz-classroom/v1.2/22-big-data/4/territories.csv\"\n",
    "  }"
   ]
  },
  {
   "cell_type": "code",
   "execution_count": 0,
   "metadata": {
    "application/vnd.databricks.v1+cell": {
     "cellMetadata": {
      "byteLimit": 2048000,
      "rowLimit": 10000
     },
     "inputWidgets": {},
     "nuid": "bd82bb99-1479-4d5c-be10-8c36df0f1d44",
     "showTitle": false,
     "title": ""
    }
   },
   "outputs": [],
   "source": [
    "#  Use a for loop to read in the CSV files using the provided links to create a Spark DataFrame for each file and then create temporary views of each DataFrame.\n",
    "for  key in file_links:\n",
    "  df = spark.read.csv(file_links[key], inferSchema=True, header=True)\n",
    "  df.createOrReplaceTempView(key)"
   ]
  },
  {
   "cell_type": "code",
   "execution_count": 0,
   "metadata": {
    "application/vnd.databricks.v1+cell": {
     "cellMetadata": {
      "byteLimit": 2048000,
      "rowLimit": 10000
     },
     "inputWidgets": {},
     "nuid": "0d11313c-e710-40ef-9829-c82800e2e208",
     "showTitle": false,
     "title": ""
    }
   },
   "outputs": [
    {
     "output_type": "stream",
     "name": "stdout",
     "output_type": "stream",
     "text": [
      "Out[3]: [Table(name='categories', catalog=None, namespace=[], description=None, tableType='TEMPORARY', isTemporary=True),\n Table(name='customers', catalog=None, namespace=[], description=None, tableType='TEMPORARY', isTemporary=True),\n Table(name='employee_territories', catalog=None, namespace=[], description=None, tableType='TEMPORARY', isTemporary=True),\n Table(name='employees', catalog=None, namespace=[], description=None, tableType='TEMPORARY', isTemporary=True),\n Table(name='order_details', catalog=None, namespace=[], description=None, tableType='TEMPORARY', isTemporary=True),\n Table(name='orders', catalog=None, namespace=[], description=None, tableType='TEMPORARY', isTemporary=True),\n Table(name='products', catalog=None, namespace=[], description=None, tableType='TEMPORARY', isTemporary=True),\n Table(name='regions', catalog=None, namespace=[], description=None, tableType='TEMPORARY', isTemporary=True),\n Table(name='shippers', catalog=None, namespace=[], description=None, tableType='TEMPORARY', isTemporary=True),\n Table(name='suppliers', catalog=None, namespace=[], description=None, tableType='TEMPORARY', isTemporary=True),\n Table(name='territories', catalog=None, namespace=[], description=None, tableType='TEMPORARY', isTemporary=True)]"
     ]
    }
   ],
   "source": [
    "# List all the tables.\n",
    "spark.catalog.listTables()"
   ]
  },
  {
   "cell_type": "code",
   "execution_count": 0,
   "metadata": {
    "application/vnd.databricks.v1+cell": {
     "cellMetadata": {
      "byteLimit": 2048000,
      "implicitDf": true,
      "rowLimit": 10000
     },
     "inputWidgets": {},
     "nuid": "b8de71cc-bc5a-48eb-9ae9-62de8b3f084d",
     "showTitle": false,
     "title": ""
    }
   },
   "outputs": [
    {
     "output_type": "display_data",
     "data": {
      "text/html": [
       "<style scoped>\n",
       "  .table-result-container {\n",
       "    max-height: 300px;\n",
       "    overflow: auto;\n",
       "  }\n",
       "  table, th, td {\n",
       "    border: 1px solid black;\n",
       "    border-collapse: collapse;\n",
       "  }\n",
       "  th, td {\n",
       "    padding: 5px;\n",
       "  }\n",
       "  th {\n",
       "    text-align: left;\n",
       "  }\n",
       "</style><div class='table-result-container'><table class='table-result'><thead style='background-color: white'><tr><th>ProductID</th><th>ProductName</th><th>SupplierID</th><th>CategoryID</th><th>QuantityPerUnit</th><th>UnitPrice</th><th>UnitsInStock</th><th>UnitsOnOrder</th><th>ReorderLevel</th><th>Discontinued</th></tr></thead><tbody><tr><td>1</td><td>Chai</td><td>1</td><td>1</td><td>10 boxes x 20 bags</td><td>18.0</td><td>39</td><td>0</td><td>10</td><td>0</td></tr><tr><td>2</td><td>Chang</td><td>1</td><td>1</td><td>24 - 12 oz bottles</td><td>19.0</td><td>17</td><td>40</td><td>25</td><td>0</td></tr><tr><td>3</td><td>Aniseed Syrup</td><td>1</td><td>2</td><td>12 - 550 ml bottles</td><td>10.0</td><td>13</td><td>70</td><td>25</td><td>0</td></tr><tr><td>4</td><td>Chef Anton's Cajun Seasoning</td><td>2</td><td>2</td><td>48 - 6 oz jars</td><td>22.0</td><td>53</td><td>0</td><td>0</td><td>0</td></tr><tr><td>5</td><td>Chef Anton's Gumbo Mix</td><td>2</td><td>2</td><td>36 boxes</td><td>21.35</td><td>0</td><td>0</td><td>0</td><td>1</td></tr><tr><td>6</td><td>Grandma's Boysenberry Spread</td><td>3</td><td>2</td><td>12 - 8 oz jars</td><td>25.0</td><td>120</td><td>0</td><td>25</td><td>0</td></tr><tr><td>7</td><td>Uncle Bob's Organic Dried Pears</td><td>3</td><td>7</td><td>12 - 1 lb pkgs.</td><td>30.0</td><td>15</td><td>0</td><td>10</td><td>0</td></tr><tr><td>8</td><td>Northwoods Cranberry Sauce</td><td>3</td><td>2</td><td>12 - 12 oz jars</td><td>40.0</td><td>6</td><td>0</td><td>0</td><td>0</td></tr><tr><td>9</td><td>Mishi Kobe Niku</td><td>4</td><td>6</td><td>18 - 500 g pkgs.</td><td>97.0</td><td>29</td><td>0</td><td>0</td><td>1</td></tr><tr><td>10</td><td>Ikura</td><td>4</td><td>8</td><td>12 - 200 ml jars</td><td>31.0</td><td>31</td><td>0</td><td>0</td><td>0</td></tr><tr><td>11</td><td>Queso Cabrales</td><td>5</td><td>4</td><td>1 kg pkg.</td><td>21.0</td><td>22</td><td>30</td><td>30</td><td>0</td></tr><tr><td>12</td><td>Queso Manchego La Pastora</td><td>5</td><td>4</td><td>10 - 500 g pkgs.</td><td>38.0</td><td>86</td><td>0</td><td>0</td><td>0</td></tr><tr><td>13</td><td>Konbu</td><td>6</td><td>8</td><td>2 kg box</td><td>6.0</td><td>24</td><td>0</td><td>5</td><td>0</td></tr><tr><td>14</td><td>Tofu</td><td>6</td><td>7</td><td>40 - 100 g pkgs.</td><td>23.25</td><td>35</td><td>0</td><td>0</td><td>0</td></tr><tr><td>15</td><td>Genen Shouyu</td><td>6</td><td>2</td><td>24 - 250 ml bottles</td><td>15.5</td><td>39</td><td>0</td><td>5</td><td>0</td></tr><tr><td>16</td><td>Pavlova</td><td>7</td><td>3</td><td>32 - 500 g boxes</td><td>17.45</td><td>29</td><td>0</td><td>10</td><td>0</td></tr><tr><td>17</td><td>Alice Mutton</td><td>7</td><td>6</td><td>20 - 1 kg tins</td><td>39.0</td><td>0</td><td>0</td><td>0</td><td>1</td></tr><tr><td>18</td><td>Carnarvon Tigers</td><td>7</td><td>8</td><td>16 kg pkg.</td><td>62.5</td><td>42</td><td>0</td><td>0</td><td>0</td></tr><tr><td>19</td><td>Teatime Chocolate Biscuits</td><td>8</td><td>3</td><td>10 boxes x 12 pieces</td><td>9.2</td><td>25</td><td>0</td><td>5</td><td>0</td></tr><tr><td>20</td><td>Sir Rodney's Marmalade</td><td>8</td><td>3</td><td>30 gift boxes</td><td>81.0</td><td>40</td><td>0</td><td>0</td><td>0</td></tr><tr><td>21</td><td>Sir Rodney's Scones</td><td>8</td><td>3</td><td>24 pkgs. x 4 pieces</td><td>10.0</td><td>3</td><td>40</td><td>5</td><td>0</td></tr><tr><td>22</td><td>Gustaf's Knäckebröd</td><td>9</td><td>5</td><td>24 - 500 g pkgs.</td><td>21.0</td><td>104</td><td>0</td><td>25</td><td>0</td></tr><tr><td>23</td><td>Tunnbröd</td><td>9</td><td>5</td><td>12 - 250 g pkgs.</td><td>9.0</td><td>61</td><td>0</td><td>25</td><td>0</td></tr><tr><td>24</td><td>Guaraná Fantástica</td><td>10</td><td>1</td><td>12 - 355 ml cans</td><td>4.5</td><td>20</td><td>0</td><td>0</td><td>1</td></tr><tr><td>25</td><td>NuNuCa Nuß-Nougat-Creme</td><td>11</td><td>3</td><td>20 - 450 g glasses</td><td>14.0</td><td>76</td><td>0</td><td>30</td><td>0</td></tr><tr><td>26</td><td>Gumbär Gummibärchen</td><td>11</td><td>3</td><td>100 - 250 g bags</td><td>31.23</td><td>15</td><td>0</td><td>0</td><td>0</td></tr><tr><td>27</td><td>Schoggi Schokolade</td><td>11</td><td>3</td><td>100 - 100 g pieces</td><td>43.9</td><td>49</td><td>0</td><td>30</td><td>0</td></tr><tr><td>28</td><td>Rössle Sauerkraut</td><td>12</td><td>7</td><td>25 - 825 g cans</td><td>45.6</td><td>26</td><td>0</td><td>0</td><td>1</td></tr><tr><td>29</td><td>Thüringer Rostbratwurst</td><td>12</td><td>6</td><td>50 bags x 30 sausgs.</td><td>123.79</td><td>0</td><td>0</td><td>0</td><td>1</td></tr><tr><td>30</td><td>Nord-Ost Matjeshering</td><td>13</td><td>8</td><td>10 - 200 g glasses</td><td>25.89</td><td>10</td><td>0</td><td>15</td><td>0</td></tr><tr><td>31</td><td>Gorgonzola Telino</td><td>14</td><td>4</td><td>12 - 100 g pkgs</td><td>12.5</td><td>0</td><td>70</td><td>20</td><td>0</td></tr><tr><td>32</td><td>Mascarpone Fabioli</td><td>14</td><td>4</td><td>24 - 200 g pkgs.</td><td>32.0</td><td>9</td><td>40</td><td>25</td><td>0</td></tr><tr><td>33</td><td>Geitost</td><td>15</td><td>4</td><td>500 g</td><td>2.5</td><td>112</td><td>0</td><td>20</td><td>0</td></tr><tr><td>34</td><td>Sasquatch Ale</td><td>16</td><td>1</td><td>24 - 12 oz bottles</td><td>14.0</td><td>111</td><td>0</td><td>15</td><td>0</td></tr><tr><td>35</td><td>Steeleye Stout</td><td>16</td><td>1</td><td>24 - 12 oz bottles</td><td>18.0</td><td>20</td><td>0</td><td>15</td><td>0</td></tr><tr><td>36</td><td>Inlagd Sill</td><td>17</td><td>8</td><td>24 - 250 g  jars</td><td>19.0</td><td>112</td><td>0</td><td>20</td><td>0</td></tr><tr><td>37</td><td>Gravad lax</td><td>17</td><td>8</td><td>12 - 500 g pkgs.</td><td>26.0</td><td>11</td><td>50</td><td>25</td><td>0</td></tr><tr><td>38</td><td>Côte de Blaye</td><td>18</td><td>1</td><td>12 - 75 cl bottles</td><td>263.5</td><td>17</td><td>0</td><td>15</td><td>0</td></tr><tr><td>39</td><td>Chartreuse verte</td><td>18</td><td>1</td><td>750 cc per bottle</td><td>18.0</td><td>69</td><td>0</td><td>5</td><td>0</td></tr><tr><td>40</td><td>Boston Crab Meat</td><td>19</td><td>8</td><td>24 - 4 oz tins</td><td>18.4</td><td>123</td><td>0</td><td>30</td><td>0</td></tr><tr><td>41</td><td>Jack's New England Clam Chowder</td><td>19</td><td>8</td><td>12 - 12 oz cans</td><td>9.65</td><td>85</td><td>0</td><td>10</td><td>0</td></tr><tr><td>42</td><td>Singaporean Hokkien Fried Mee</td><td>20</td><td>5</td><td>32 - 1 kg pkgs.</td><td>14.0</td><td>26</td><td>0</td><td>0</td><td>1</td></tr><tr><td>43</td><td>Ipoh Coffee</td><td>20</td><td>1</td><td>16 - 500 g tins</td><td>46.0</td><td>17</td><td>10</td><td>25</td><td>0</td></tr><tr><td>44</td><td>Gula Malacca</td><td>20</td><td>2</td><td>20 - 2 kg bags</td><td>19.45</td><td>27</td><td>0</td><td>15</td><td>0</td></tr><tr><td>45</td><td>Rogede sild</td><td>21</td><td>8</td><td>1k pkg.</td><td>9.5</td><td>5</td><td>70</td><td>15</td><td>0</td></tr><tr><td>46</td><td>Spegesild</td><td>21</td><td>8</td><td>4 - 450 g glasses</td><td>12.0</td><td>95</td><td>0</td><td>0</td><td>0</td></tr><tr><td>47</td><td>Zaanse koeken</td><td>22</td><td>3</td><td>10 - 4 oz boxes</td><td>9.5</td><td>36</td><td>0</td><td>0</td><td>0</td></tr><tr><td>48</td><td>Chocolade</td><td>22</td><td>3</td><td>10 pkgs.</td><td>12.75</td><td>15</td><td>70</td><td>25</td><td>0</td></tr><tr><td>49</td><td>Maxilaku</td><td>23</td><td>3</td><td>24 - 50 g pkgs.</td><td>20.0</td><td>10</td><td>60</td><td>15</td><td>0</td></tr><tr><td>50</td><td>Valkoinen suklaa</td><td>23</td><td>3</td><td>12 - 100 g bars</td><td>16.25</td><td>65</td><td>0</td><td>30</td><td>0</td></tr><tr><td>51</td><td>Manjimup Dried Apples</td><td>24</td><td>7</td><td>50 - 300 g pkgs.</td><td>53.0</td><td>20</td><td>0</td><td>10</td><td>0</td></tr><tr><td>52</td><td>Filo Mix</td><td>24</td><td>5</td><td>16 - 2 kg boxes</td><td>7.0</td><td>38</td><td>0</td><td>25</td><td>0</td></tr><tr><td>53</td><td>Perth Pasties</td><td>24</td><td>6</td><td>48 pieces</td><td>32.8</td><td>0</td><td>0</td><td>0</td><td>1</td></tr><tr><td>54</td><td>Tourtière</td><td>25</td><td>6</td><td>16 pies</td><td>7.45</td><td>21</td><td>0</td><td>10</td><td>0</td></tr><tr><td>55</td><td>Pâté chinois</td><td>25</td><td>6</td><td>24 boxes x 2 pies</td><td>24.0</td><td>115</td><td>0</td><td>20</td><td>0</td></tr><tr><td>56</td><td>Gnocchi di nonna Alice</td><td>26</td><td>5</td><td>24 - 250 g pkgs.</td><td>38.0</td><td>21</td><td>10</td><td>30</td><td>0</td></tr><tr><td>57</td><td>Ravioli Angelo</td><td>26</td><td>5</td><td>24 - 250 g pkgs.</td><td>19.5</td><td>36</td><td>0</td><td>20</td><td>0</td></tr><tr><td>58</td><td>Escargots de Bourgogne</td><td>27</td><td>8</td><td>24 pieces</td><td>13.25</td><td>62</td><td>0</td><td>20</td><td>0</td></tr><tr><td>59</td><td>Raclette Courdavault</td><td>28</td><td>4</td><td>5 kg pkg.</td><td>55.0</td><td>79</td><td>0</td><td>0</td><td>0</td></tr><tr><td>60</td><td>Camembert Pierrot</td><td>28</td><td>4</td><td>15 - 300 g rounds</td><td>34.0</td><td>19</td><td>0</td><td>0</td><td>0</td></tr><tr><td>61</td><td>Sirop d'érable</td><td>29</td><td>2</td><td>24 - 500 ml bottles</td><td>28.5</td><td>113</td><td>0</td><td>25</td><td>0</td></tr><tr><td>62</td><td>Tarte au sucre</td><td>29</td><td>3</td><td>48 pies</td><td>49.3</td><td>17</td><td>0</td><td>0</td><td>0</td></tr><tr><td>63</td><td>Vegie-spread</td><td>7</td><td>2</td><td>15 - 625 g jars</td><td>43.9</td><td>24</td><td>0</td><td>5</td><td>0</td></tr><tr><td>64</td><td>Wimmers gute Semmelknödel</td><td>12</td><td>5</td><td>20 bags x 4 pieces</td><td>33.25</td><td>22</td><td>80</td><td>30</td><td>0</td></tr><tr><td>65</td><td>Louisiana Fiery Hot Pepper Sauce</td><td>2</td><td>2</td><td>32 - 8 oz bottles</td><td>21.05</td><td>76</td><td>0</td><td>0</td><td>0</td></tr><tr><td>66</td><td>Louisiana Hot Spiced Okra</td><td>2</td><td>2</td><td>24 - 8 oz jars</td><td>17.0</td><td>4</td><td>100</td><td>20</td><td>0</td></tr><tr><td>67</td><td>Laughing Lumberjack Lager</td><td>16</td><td>1</td><td>24 - 12 oz bottles</td><td>14.0</td><td>52</td><td>0</td><td>10</td><td>0</td></tr><tr><td>68</td><td>Scottish Longbreads</td><td>8</td><td>3</td><td>10 boxes x 8 pieces</td><td>12.5</td><td>6</td><td>10</td><td>15</td><td>0</td></tr><tr><td>69</td><td>Gudbrandsdalsost</td><td>15</td><td>4</td><td>10 kg pkg.</td><td>36.0</td><td>26</td><td>0</td><td>15</td><td>0</td></tr><tr><td>70</td><td>Outback Lager</td><td>7</td><td>1</td><td>24 - 355 ml bottles</td><td>15.0</td><td>15</td><td>10</td><td>30</td><td>0</td></tr><tr><td>71</td><td>Flotemysost</td><td>15</td><td>4</td><td>10 - 500 g pkgs.</td><td>21.5</td><td>26</td><td>0</td><td>0</td><td>0</td></tr><tr><td>72</td><td>Mozzarella di Giovanni</td><td>14</td><td>4</td><td>24 - 200 g pkgs.</td><td>34.8</td><td>14</td><td>0</td><td>0</td><td>0</td></tr><tr><td>73</td><td>Röd Kaviar</td><td>17</td><td>8</td><td>24 - 150 g jars</td><td>15.0</td><td>101</td><td>0</td><td>5</td><td>0</td></tr><tr><td>74</td><td>Longlife Tofu</td><td>4</td><td>7</td><td>5 kg pkg.</td><td>10.0</td><td>4</td><td>20</td><td>5</td><td>0</td></tr><tr><td>75</td><td>Rhönbräu Klosterbier</td><td>12</td><td>1</td><td>24 - 0.5 l bottles</td><td>7.75</td><td>125</td><td>0</td><td>25</td><td>0</td></tr><tr><td>76</td><td>Lakkalikööri</td><td>23</td><td>1</td><td>500 ml</td><td>18.0</td><td>57</td><td>0</td><td>20</td><td>0</td></tr><tr><td>77</td><td>Original Frankfurter grüne Soße</td><td>12</td><td>2</td><td>12 boxes</td><td>13.0</td><td>32</td><td>0</td><td>15</td><td>0</td></tr></tbody></table></div>"
      ]
     },
     "metadata": {
      "application/vnd.databricks.v1+output": {
       "addedWidgets": {},
       "aggData": [],
       "aggError": "",
       "aggOverflow": false,
       "aggSchema": [],
       "aggSeriesLimitReached": false,
       "aggType": "",
       "arguments": {},
       "columnCustomDisplayInfos": {},
       "data": [
        [
         1,
         "Chai",
         1,
         1,
         "10 boxes x 20 bags",
         18.0,
         39,
         0,
         10,
         0
        ],
        [
         2,
         "Chang",
         1,
         1,
         "24 - 12 oz bottles",
         19.0,
         17,
         40,
         25,
         0
        ],
        [
         3,
         "Aniseed Syrup",
         1,
         2,
         "12 - 550 ml bottles",
         10.0,
         13,
         70,
         25,
         0
        ],
        [
         4,
         "Chef Anton's Cajun Seasoning",
         2,
         2,
         "48 - 6 oz jars",
         22.0,
         53,
         0,
         0,
         0
        ],
        [
         5,
         "Chef Anton's Gumbo Mix",
         2,
         2,
         "36 boxes",
         21.35,
         0,
         0,
         0,
         1
        ],
        [
         6,
         "Grandma's Boysenberry Spread",
         3,
         2,
         "12 - 8 oz jars",
         25.0,
         120,
         0,
         25,
         0
        ],
        [
         7,
         "Uncle Bob's Organic Dried Pears",
         3,
         7,
         "12 - 1 lb pkgs.",
         30.0,
         15,
         0,
         10,
         0
        ],
        [
         8,
         "Northwoods Cranberry Sauce",
         3,
         2,
         "12 - 12 oz jars",
         40.0,
         6,
         0,
         0,
         0
        ],
        [
         9,
         "Mishi Kobe Niku",
         4,
         6,
         "18 - 500 g pkgs.",
         97.0,
         29,
         0,
         0,
         1
        ],
        [
         10,
         "Ikura",
         4,
         8,
         "12 - 200 ml jars",
         31.0,
         31,
         0,
         0,
         0
        ],
        [
         11,
         "Queso Cabrales",
         5,
         4,
         "1 kg pkg.",
         21.0,
         22,
         30,
         30,
         0
        ],
        [
         12,
         "Queso Manchego La Pastora",
         5,
         4,
         "10 - 500 g pkgs.",
         38.0,
         86,
         0,
         0,
         0
        ],
        [
         13,
         "Konbu",
         6,
         8,
         "2 kg box",
         6.0,
         24,
         0,
         5,
         0
        ],
        [
         14,
         "Tofu",
         6,
         7,
         "40 - 100 g pkgs.",
         23.25,
         35,
         0,
         0,
         0
        ],
        [
         15,
         "Genen Shouyu",
         6,
         2,
         "24 - 250 ml bottles",
         15.5,
         39,
         0,
         5,
         0
        ],
        [
         16,
         "Pavlova",
         7,
         3,
         "32 - 500 g boxes",
         17.45,
         29,
         0,
         10,
         0
        ],
        [
         17,
         "Alice Mutton",
         7,
         6,
         "20 - 1 kg tins",
         39.0,
         0,
         0,
         0,
         1
        ],
        [
         18,
         "Carnarvon Tigers",
         7,
         8,
         "16 kg pkg.",
         62.5,
         42,
         0,
         0,
         0
        ],
        [
         19,
         "Teatime Chocolate Biscuits",
         8,
         3,
         "10 boxes x 12 pieces",
         9.2,
         25,
         0,
         5,
         0
        ],
        [
         20,
         "Sir Rodney's Marmalade",
         8,
         3,
         "30 gift boxes",
         81.0,
         40,
         0,
         0,
         0
        ],
        [
         21,
         "Sir Rodney's Scones",
         8,
         3,
         "24 pkgs. x 4 pieces",
         10.0,
         3,
         40,
         5,
         0
        ],
        [
         22,
         "Gustaf's Knäckebröd",
         9,
         5,
         "24 - 500 g pkgs.",
         21.0,
         104,
         0,
         25,
         0
        ],
        [
         23,
         "Tunnbröd",
         9,
         5,
         "12 - 250 g pkgs.",
         9.0,
         61,
         0,
         25,
         0
        ],
        [
         24,
         "Guaraná Fantástica",
         10,
         1,
         "12 - 355 ml cans",
         4.5,
         20,
         0,
         0,
         1
        ],
        [
         25,
         "NuNuCa Nuß-Nougat-Creme",
         11,
         3,
         "20 - 450 g glasses",
         14.0,
         76,
         0,
         30,
         0
        ],
        [
         26,
         "Gumbär Gummibärchen",
         11,
         3,
         "100 - 250 g bags",
         31.23,
         15,
         0,
         0,
         0
        ],
        [
         27,
         "Schoggi Schokolade",
         11,
         3,
         "100 - 100 g pieces",
         43.9,
         49,
         0,
         30,
         0
        ],
        [
         28,
         "Rössle Sauerkraut",
         12,
         7,
         "25 - 825 g cans",
         45.6,
         26,
         0,
         0,
         1
        ],
        [
         29,
         "Thüringer Rostbratwurst",
         12,
         6,
         "50 bags x 30 sausgs.",
         123.79,
         0,
         0,
         0,
         1
        ],
        [
         30,
         "Nord-Ost Matjeshering",
         13,
         8,
         "10 - 200 g glasses",
         25.89,
         10,
         0,
         15,
         0
        ],
        [
         31,
         "Gorgonzola Telino",
         14,
         4,
         "12 - 100 g pkgs",
         12.5,
         0,
         70,
         20,
         0
        ],
        [
         32,
         "Mascarpone Fabioli",
         14,
         4,
         "24 - 200 g pkgs.",
         32.0,
         9,
         40,
         25,
         0
        ],
        [
         33,
         "Geitost",
         15,
         4,
         "500 g",
         2.5,
         112,
         0,
         20,
         0
        ],
        [
         34,
         "Sasquatch Ale",
         16,
         1,
         "24 - 12 oz bottles",
         14.0,
         111,
         0,
         15,
         0
        ],
        [
         35,
         "Steeleye Stout",
         16,
         1,
         "24 - 12 oz bottles",
         18.0,
         20,
         0,
         15,
         0
        ],
        [
         36,
         "Inlagd Sill",
         17,
         8,
         "24 - 250 g  jars",
         19.0,
         112,
         0,
         20,
         0
        ],
        [
         37,
         "Gravad lax",
         17,
         8,
         "12 - 500 g pkgs.",
         26.0,
         11,
         50,
         25,
         0
        ],
        [
         38,
         "Côte de Blaye",
         18,
         1,
         "12 - 75 cl bottles",
         263.5,
         17,
         0,
         15,
         0
        ],
        [
         39,
         "Chartreuse verte",
         18,
         1,
         "750 cc per bottle",
         18.0,
         69,
         0,
         5,
         0
        ],
        [
         40,
         "Boston Crab Meat",
         19,
         8,
         "24 - 4 oz tins",
         18.4,
         123,
         0,
         30,
         0
        ],
        [
         41,
         "Jack's New England Clam Chowder",
         19,
         8,
         "12 - 12 oz cans",
         9.65,
         85,
         0,
         10,
         0
        ],
        [
         42,
         "Singaporean Hokkien Fried Mee",
         20,
         5,
         "32 - 1 kg pkgs.",
         14.0,
         26,
         0,
         0,
         1
        ],
        [
         43,
         "Ipoh Coffee",
         20,
         1,
         "16 - 500 g tins",
         46.0,
         17,
         10,
         25,
         0
        ],
        [
         44,
         "Gula Malacca",
         20,
         2,
         "20 - 2 kg bags",
         19.45,
         27,
         0,
         15,
         0
        ],
        [
         45,
         "Rogede sild",
         21,
         8,
         "1k pkg.",
         9.5,
         5,
         70,
         15,
         0
        ],
        [
         46,
         "Spegesild",
         21,
         8,
         "4 - 450 g glasses",
         12.0,
         95,
         0,
         0,
         0
        ],
        [
         47,
         "Zaanse koeken",
         22,
         3,
         "10 - 4 oz boxes",
         9.5,
         36,
         0,
         0,
         0
        ],
        [
         48,
         "Chocolade",
         22,
         3,
         "10 pkgs.",
         12.75,
         15,
         70,
         25,
         0
        ],
        [
         49,
         "Maxilaku",
         23,
         3,
         "24 - 50 g pkgs.",
         20.0,
         10,
         60,
         15,
         0
        ],
        [
         50,
         "Valkoinen suklaa",
         23,
         3,
         "12 - 100 g bars",
         16.25,
         65,
         0,
         30,
         0
        ],
        [
         51,
         "Manjimup Dried Apples",
         24,
         7,
         "50 - 300 g pkgs.",
         53.0,
         20,
         0,
         10,
         0
        ],
        [
         52,
         "Filo Mix",
         24,
         5,
         "16 - 2 kg boxes",
         7.0,
         38,
         0,
         25,
         0
        ],
        [
         53,
         "Perth Pasties",
         24,
         6,
         "48 pieces",
         32.8,
         0,
         0,
         0,
         1
        ],
        [
         54,
         "Tourtière",
         25,
         6,
         "16 pies",
         7.45,
         21,
         0,
         10,
         0
        ],
        [
         55,
         "Pâté chinois",
         25,
         6,
         "24 boxes x 2 pies",
         24.0,
         115,
         0,
         20,
         0
        ],
        [
         56,
         "Gnocchi di nonna Alice",
         26,
         5,
         "24 - 250 g pkgs.",
         38.0,
         21,
         10,
         30,
         0
        ],
        [
         57,
         "Ravioli Angelo",
         26,
         5,
         "24 - 250 g pkgs.",
         19.5,
         36,
         0,
         20,
         0
        ],
        [
         58,
         "Escargots de Bourgogne",
         27,
         8,
         "24 pieces",
         13.25,
         62,
         0,
         20,
         0
        ],
        [
         59,
         "Raclette Courdavault",
         28,
         4,
         "5 kg pkg.",
         55.0,
         79,
         0,
         0,
         0
        ],
        [
         60,
         "Camembert Pierrot",
         28,
         4,
         "15 - 300 g rounds",
         34.0,
         19,
         0,
         0,
         0
        ],
        [
         61,
         "Sirop d'érable",
         29,
         2,
         "24 - 500 ml bottles",
         28.5,
         113,
         0,
         25,
         0
        ],
        [
         62,
         "Tarte au sucre",
         29,
         3,
         "48 pies",
         49.3,
         17,
         0,
         0,
         0
        ],
        [
         63,
         "Vegie-spread",
         7,
         2,
         "15 - 625 g jars",
         43.9,
         24,
         0,
         5,
         0
        ],
        [
         64,
         "Wimmers gute Semmelknödel",
         12,
         5,
         "20 bags x 4 pieces",
         33.25,
         22,
         80,
         30,
         0
        ],
        [
         65,
         "Louisiana Fiery Hot Pepper Sauce",
         2,
         2,
         "32 - 8 oz bottles",
         21.05,
         76,
         0,
         0,
         0
        ],
        [
         66,
         "Louisiana Hot Spiced Okra",
         2,
         2,
         "24 - 8 oz jars",
         17.0,
         4,
         100,
         20,
         0
        ],
        [
         67,
         "Laughing Lumberjack Lager",
         16,
         1,
         "24 - 12 oz bottles",
         14.0,
         52,
         0,
         10,
         0
        ],
        [
         68,
         "Scottish Longbreads",
         8,
         3,
         "10 boxes x 8 pieces",
         12.5,
         6,
         10,
         15,
         0
        ],
        [
         69,
         "Gudbrandsdalsost",
         15,
         4,
         "10 kg pkg.",
         36.0,
         26,
         0,
         15,
         0
        ],
        [
         70,
         "Outback Lager",
         7,
         1,
         "24 - 355 ml bottles",
         15.0,
         15,
         10,
         30,
         0
        ],
        [
         71,
         "Flotemysost",
         15,
         4,
         "10 - 500 g pkgs.",
         21.5,
         26,
         0,
         0,
         0
        ],
        [
         72,
         "Mozzarella di Giovanni",
         14,
         4,
         "24 - 200 g pkgs.",
         34.8,
         14,
         0,
         0,
         0
        ],
        [
         73,
         "Röd Kaviar",
         17,
         8,
         "24 - 150 g jars",
         15.0,
         101,
         0,
         5,
         0
        ],
        [
         74,
         "Longlife Tofu",
         4,
         7,
         "5 kg pkg.",
         10.0,
         4,
         20,
         5,
         0
        ],
        [
         75,
         "Rhönbräu Klosterbier",
         12,
         1,
         "24 - 0.5 l bottles",
         7.75,
         125,
         0,
         25,
         0
        ],
        [
         76,
         "Lakkalikööri",
         23,
         1,
         "500 ml",
         18.0,
         57,
         0,
         20,
         0
        ],
        [
         77,
         "Original Frankfurter grüne Soße",
         12,
         2,
         "12 boxes",
         13.0,
         32,
         0,
         15,
         0
        ]
       ],
       "datasetInfos": [],
       "dbfsResultPath": null,
       "isJsonSchema": true,
       "metadata": {},
       "overflow": false,
       "plotOptions": {
        "customPlotOptions": {},
        "displayType": "table",
        "pivotAggregation": null,
        "pivotColumns": null,
        "xColumns": null,
        "yColumns": null
       },
       "removedWidgets": [],
       "schema": [
        {
         "metadata": "{}",
         "name": "ProductID",
         "type": "\"integer\""
        },
        {
         "metadata": "{}",
         "name": "ProductName",
         "type": "\"string\""
        },
        {
         "metadata": "{}",
         "name": "SupplierID",
         "type": "\"integer\""
        },
        {
         "metadata": "{}",
         "name": "CategoryID",
         "type": "\"integer\""
        },
        {
         "metadata": "{}",
         "name": "QuantityPerUnit",
         "type": "\"string\""
        },
        {
         "metadata": "{}",
         "name": "UnitPrice",
         "type": "\"double\""
        },
        {
         "metadata": "{}",
         "name": "UnitsInStock",
         "type": "\"integer\""
        },
        {
         "metadata": "{}",
         "name": "UnitsOnOrder",
         "type": "\"integer\""
        },
        {
         "metadata": "{}",
         "name": "ReorderLevel",
         "type": "\"integer\""
        },
        {
         "metadata": "{}",
         "name": "Discontinued",
         "type": "\"integer\""
        }
       ],
       "type": "table"
      }
     },
     "output_type": "display_data"
    }
   ],
   "source": [
    "%sql\n",
    "-- Review tables as needed for queries and analysis\n",
    "select * from products;"
   ]
  },
  {
   "cell_type": "code",
   "execution_count": 0,
   "metadata": {
    "application/vnd.databricks.v1+cell": {
     "cellMetadata": {
      "byteLimit": 2048000,
      "implicitDf": true,
      "rowLimit": 10000
     },
     "inputWidgets": {},
     "nuid": "98d50c7d-59cd-438c-992d-46331938fff2",
     "showTitle": false,
     "title": ""
    }
   },
   "outputs": [
    {
     "output_type": "display_data",
     "data": {
      "text/html": [
       "<style scoped>\n",
       "  .table-result-container {\n",
       "    max-height: 300px;\n",
       "    overflow: auto;\n",
       "  }\n",
       "  table, th, td {\n",
       "    border: 1px solid black;\n",
       "    border-collapse: collapse;\n",
       "  }\n",
       "  th, td {\n",
       "    padding: 5px;\n",
       "  }\n",
       "  th {\n",
       "    text-align: left;\n",
       "  }\n",
       "</style><div class='table-result-container'><table class='table-result'><thead style='background-color: white'><tr><th>ShipCountry</th></tr></thead><tbody><tr><td>Sweden</td></tr><tr><td>Germany</td></tr><tr><td>France</td></tr><tr><td>Argentina</td></tr><tr><td>Belgium</td></tr><tr><td>Finland</td></tr><tr><td>Italy</td></tr><tr><td>Norway</td></tr><tr><td>Spain</td></tr><tr><td>Denmark</td></tr><tr><td>Ireland</td></tr><tr><td>Venezuela</td></tr><tr><td>USA</td></tr><tr><td>Mexico</td></tr><tr><td>UK</td></tr><tr><td>Switzerland</td></tr><tr><td>Canada</td></tr><tr><td>Brazil</td></tr><tr><td>Poland</td></tr><tr><td>Portugal</td></tr><tr><td>Austria</td></tr></tbody></table></div>"
      ]
     },
     "metadata": {
      "application/vnd.databricks.v1+output": {
       "addedWidgets": {},
       "aggData": [],
       "aggError": "",
       "aggOverflow": false,
       "aggSchema": [],
       "aggSeriesLimitReached": false,
       "aggType": "",
       "arguments": {},
       "columnCustomDisplayInfos": {},
       "data": [
        [
         "Sweden"
        ],
        [
         "Germany"
        ],
        [
         "France"
        ],
        [
         "Argentina"
        ],
        [
         "Belgium"
        ],
        [
         "Finland"
        ],
        [
         "Italy"
        ],
        [
         "Norway"
        ],
        [
         "Spain"
        ],
        [
         "Denmark"
        ],
        [
         "Ireland"
        ],
        [
         "Venezuela"
        ],
        [
         "USA"
        ],
        [
         "Mexico"
        ],
        [
         "UK"
        ],
        [
         "Switzerland"
        ],
        [
         "Canada"
        ],
        [
         "Brazil"
        ],
        [
         "Poland"
        ],
        [
         "Portugal"
        ],
        [
         "Austria"
        ]
       ],
       "datasetInfos": [],
       "dbfsResultPath": null,
       "isJsonSchema": true,
       "metadata": {},
       "overflow": false,
       "plotOptions": {
        "customPlotOptions": {},
        "displayType": "table",
        "pivotAggregation": null,
        "pivotColumns": null,
        "xColumns": null,
        "yColumns": null
       },
       "removedWidgets": [],
       "schema": [
        {
         "metadata": "{}",
         "name": "ShipCountry",
         "type": "\"string\""
        }
       ],
       "type": "table"
      }
     },
     "output_type": "display_data"
    }
   ],
   "source": [
    "%sql\n",
    "-- A list of all countries that orders have been shipped to\n",
    "select ShipCountry from orders group by ShipCountry;"
   ]
  },
  {
   "cell_type": "code",
   "execution_count": 0,
   "metadata": {
    "application/vnd.databricks.v1+cell": {
     "cellMetadata": {
      "byteLimit": 2048000,
      "implicitDf": true,
      "rowLimit": 10000
     },
     "inputWidgets": {},
     "nuid": "2d79ea43-4f74-41a2-94da-7c7f23293ebd",
     "showTitle": false,
     "title": ""
    }
   },
   "outputs": [
    {
     "output_type": "display_data",
     "data": {
      "text/html": [
       "<style scoped>\n",
       "  .table-result-container {\n",
       "    max-height: 300px;\n",
       "    overflow: auto;\n",
       "  }\n",
       "  table, th, td {\n",
       "    border: 1px solid black;\n",
       "    border-collapse: collapse;\n",
       "  }\n",
       "  th, td {\n",
       "    padding: 5px;\n",
       "  }\n",
       "  th {\n",
       "    text-align: left;\n",
       "  }\n",
       "</style><div class='table-result-container'><table class='table-result'><thead style='background-color: white'><tr><th>count(1)</th></tr></thead><tbody><tr><td>830</td></tr></tbody></table></div>"
      ]
     },
     "metadata": {
      "application/vnd.databricks.v1+output": {
       "addedWidgets": {},
       "aggData": [],
       "aggError": "",
       "aggOverflow": false,
       "aggSchema": [],
       "aggSeriesLimitReached": false,
       "aggType": "",
       "arguments": {},
       "columnCustomDisplayInfos": {},
       "data": [
        [
         830
        ]
       ],
       "datasetInfos": [],
       "dbfsResultPath": null,
       "isJsonSchema": true,
       "metadata": {},
       "overflow": false,
       "plotOptions": {
        "customPlotOptions": {},
        "displayType": "table",
        "pivotAggregation": null,
        "pivotColumns": null,
        "xColumns": null,
        "yColumns": null
       },
       "removedWidgets": [],
       "schema": [
        {
         "metadata": "{\"__autoGeneratedAlias\":\"true\"}",
         "name": "count(1)",
         "type": "\"long\""
        }
       ],
       "type": "table"
      }
     },
     "output_type": "display_data"
    }
   ],
   "source": [
    "%sql\n",
    "-- How many total orders have been placed?\n",
    "select count(*) from orders;"
   ]
  },
  {
   "cell_type": "code",
   "execution_count": 0,
   "metadata": {
    "application/vnd.databricks.v1+cell": {
     "cellMetadata": {
      "byteLimit": 2048000,
      "implicitDf": true,
      "rowLimit": 10000
     },
     "inputWidgets": {},
     "nuid": "d7cd7a99-ee75-4754-a879-a034bb6b6865",
     "showTitle": false,
     "title": ""
    }
   },
   "outputs": [
    {
     "output_type": "display_data",
     "data": {
      "text/html": [
       "<style scoped>\n",
       "  .table-result-container {\n",
       "    max-height: 300px;\n",
       "    overflow: auto;\n",
       "  }\n",
       "  table, th, td {\n",
       "    border: 1px solid black;\n",
       "    border-collapse: collapse;\n",
       "  }\n",
       "  th, td {\n",
       "    padding: 5px;\n",
       "  }\n",
       "  th {\n",
       "    text-align: left;\n",
       "  }\n",
       "</style><div class='table-result-container'><table class='table-result'><thead style='background-color: white'><tr><th>Country</th><th>Orders</th></tr></thead><tbody><tr><td>Germany</td><td>122</td></tr><tr><td>USA</td><td>122</td></tr><tr><td>Brazil</td><td>83</td></tr><tr><td>France</td><td>77</td></tr><tr><td>UK</td><td>56</td></tr><tr><td>Venezuela</td><td>46</td></tr><tr><td>Austria</td><td>40</td></tr><tr><td>Sweden</td><td>37</td></tr><tr><td>Canada</td><td>30</td></tr><tr><td>Italy</td><td>28</td></tr><tr><td>Mexico</td><td>28</td></tr><tr><td>Spain</td><td>23</td></tr><tr><td>Finland</td><td>22</td></tr><tr><td>Belgium</td><td>19</td></tr><tr><td>Ireland</td><td>19</td></tr><tr><td>Denmark</td><td>18</td></tr><tr><td>Switzerland</td><td>18</td></tr><tr><td>Argentina</td><td>16</td></tr><tr><td>Portugal</td><td>13</td></tr><tr><td>Poland</td><td>7</td></tr><tr><td>Norway</td><td>6</td></tr></tbody></table></div>"
      ]
     },
     "metadata": {
      "application/vnd.databricks.v1+output": {
       "addedWidgets": {},
       "aggData": [],
       "aggError": "",
       "aggOverflow": false,
       "aggSchema": [],
       "aggSeriesLimitReached": false,
       "aggType": "",
       "arguments": {},
       "columnCustomDisplayInfos": {},
       "data": [
        [
         "Germany",
         122
        ],
        [
         "USA",
         122
        ],
        [
         "Brazil",
         83
        ],
        [
         "France",
         77
        ],
        [
         "UK",
         56
        ],
        [
         "Venezuela",
         46
        ],
        [
         "Austria",
         40
        ],
        [
         "Sweden",
         37
        ],
        [
         "Canada",
         30
        ],
        [
         "Italy",
         28
        ],
        [
         "Mexico",
         28
        ],
        [
         "Spain",
         23
        ],
        [
         "Finland",
         22
        ],
        [
         "Belgium",
         19
        ],
        [
         "Ireland",
         19
        ],
        [
         "Denmark",
         18
        ],
        [
         "Switzerland",
         18
        ],
        [
         "Argentina",
         16
        ],
        [
         "Portugal",
         13
        ],
        [
         "Poland",
         7
        ],
        [
         "Norway",
         6
        ]
       ],
       "datasetInfos": [],
       "dbfsResultPath": null,
       "isJsonSchema": true,
       "metadata": {},
       "overflow": false,
       "plotOptions": {
        "customPlotOptions": {
         "__migrate__": [
          {
           "key": "status",
           "value": "complete"
          },
          {
           "key": "origDisplayType",
           "value": "plotlyBar"
          }
         ],
         "plotlyBar": [
          {
           "key": "grouped",
           "value": true
          },
          {
           "key": "stacked",
           "value": false
          },
          {
           "key": "100_stacked",
           "value": false
          }
         ]
        },
        "displayType": "table",
        "pivotAggregation": null,
        "pivotColumns": null,
        "xColumns": null,
        "yColumns": null
       },
       "removedWidgets": [],
       "schema": [
        {
         "metadata": "{}",
         "name": "Country",
         "type": "\"string\""
        },
        {
         "metadata": "{}",
         "name": "Orders",
         "type": "\"long\""
        }
       ],
       "type": "table"
      }
     },
     "output_type": "display_data"
    },
    {
     "output_type": "display_data",
     "data": {
      "text/plain": [
       "Databricks visualization. Run in Databricks to view."
      ]
     },
     "metadata": {
      "application/vnd.databricks.v1.subcommand+json": {
       "bindings": {},
       "collapsed": false,
       "command": "%sql\n-- How many orders have been shipped to each country?\nselect ShipCountry, count(*) as Orders from orders group by ShipCountry order by Orders desc; ",
       "commandTitle": "Bar chart",
       "commandType": "auto",
       "commandVersion": 0,
       "commentThread": [],
       "commentsVisible": false,
       "contentSha256Hex": null,
       "customPlotOptions": {},
       "datasetPreviewNameToCmdIdMap": {},
       "diffDeletes": [],
       "diffInserts": [],
       "displayType": "plotlyBar",
       "error": null,
       "errorSummary": null,
       "errorTraceType": null,
       "finishTime": 0,
       "globalVars": {},
       "guid": "",
       "height": "auto",
       "hideCommandCode": false,
       "hideCommandResult": false,
       "iPythonMetadata": null,
       "inputWidgets": {},
       "isLockedInExamMode": false,
       "latestUser": "a user",
       "latestUserId": null,
       "listResultMetadata": null,
       "metadata": {},
       "nuid": "9a5bc9ba-ecae-4349-866f-40829e318005",
       "origId": 0,
       "parentHierarchy": [],
       "pivotAggregation": null,
       "pivotColumns": null,
       "position": 1.0,
       "resultDbfsErrorMessage": null,
       "resultDbfsStatus": "INLINED_IN_TREE",
       "results": null,
       "showCommandTitle": false,
       "startTime": 0,
       "state": "input",
       "streamStates": {},
       "subcommandOptions": null,
       "submitTime": 0,
       "subtype": "tableResultSubCmd.visualization",
       "tableResultIndex": 0,
       "useConsistentColors": false,
       "version": "CommandV1",
       "width": "660",
       "workflows": [],
       "xColumns": null,
       "yColumns": null
      }
     },
     "output_type": "display_data"
    }
   ],
   "source": [
    "%sql\n",
    "-- How many orders have been shipped to each country?\n",
    "select ShipCountry as Country, count(*) as Orders from orders group by ShipCountry order by Orders desc; "
   ]
  },
  {
   "cell_type": "code",
   "execution_count": 0,
   "metadata": {
    "application/vnd.databricks.v1+cell": {
     "cellMetadata": {
      "byteLimit": 2048000,
      "implicitDf": true,
      "rowLimit": 10000
     },
     "inputWidgets": {},
     "nuid": "ea51e28c-0e51-4b8f-a659-25eca1f110a6",
     "showTitle": false,
     "title": ""
    }
   },
   "outputs": [
    {
     "output_type": "display_data",
     "data": {
      "text/html": [
       "<style scoped>\n",
       "  .table-result-container {\n",
       "    max-height: 300px;\n",
       "    overflow: auto;\n",
       "  }\n",
       "  table, th, td {\n",
       "    border: 1px solid black;\n",
       "    border-collapse: collapse;\n",
       "  }\n",
       "  th, td {\n",
       "    padding: 5px;\n",
       "  }\n",
       "  th {\n",
       "    text-align: left;\n",
       "  }\n",
       "</style><div class='table-result-container'><table class='table-result'><thead style='background-color: white'><tr><th>Country</th><th>Orders</th></tr></thead><tbody><tr><td>Germany</td><td>122</td></tr><tr><td>USA</td><td>122</td></tr><tr><td>Brazil</td><td>83</td></tr><tr><td>France</td><td>77</td></tr><tr><td>UK</td><td>56</td></tr><tr><td>Venezuela</td><td>46</td></tr><tr><td>Austria</td><td>40</td></tr><tr><td>Sweden</td><td>37</td></tr><tr><td>Canada</td><td>30</td></tr><tr><td>Italy</td><td>28</td></tr></tbody></table></div>"
      ]
     },
     "metadata": {
      "application/vnd.databricks.v1+output": {
       "addedWidgets": {},
       "aggData": [],
       "aggError": "",
       "aggOverflow": false,
       "aggSchema": [],
       "aggSeriesLimitReached": false,
       "aggType": "",
       "arguments": {},
       "columnCustomDisplayInfos": {},
       "data": [
        [
         "Germany",
         122
        ],
        [
         "USA",
         122
        ],
        [
         "Brazil",
         83
        ],
        [
         "France",
         77
        ],
        [
         "UK",
         56
        ],
        [
         "Venezuela",
         46
        ],
        [
         "Austria",
         40
        ],
        [
         "Sweden",
         37
        ],
        [
         "Canada",
         30
        ],
        [
         "Italy",
         28
        ]
       ],
       "datasetInfos": [],
       "dbfsResultPath": null,
       "isJsonSchema": true,
       "metadata": {},
       "overflow": false,
       "plotOptions": {
        "customPlotOptions": {
         "__migrate__": [
          {
           "key": "status",
           "value": "complete"
          },
          {
           "key": "origDisplayType",
           "value": "plotlyBar"
          }
         ],
         "plotlyBar": [
          {
           "key": "grouped",
           "value": true
          },
          {
           "key": "stacked",
           "value": false
          },
          {
           "key": "100_stacked",
           "value": false
          }
         ]
        },
        "displayType": "table",
        "pivotAggregation": null,
        "pivotColumns": null,
        "xColumns": null,
        "yColumns": null
       },
       "removedWidgets": [],
       "schema": [
        {
         "metadata": "{}",
         "name": "Country",
         "type": "\"string\""
        },
        {
         "metadata": "{}",
         "name": "Orders",
         "type": "\"long\""
        }
       ],
       "type": "table"
      }
     },
     "output_type": "display_data"
    },
    {
     "output_type": "display_data",
     "data": {
      "text/plain": [
       "Databricks visualization. Run in Databricks to view."
      ]
     },
     "metadata": {
      "application/vnd.databricks.v1.subcommand+json": {
       "bindings": {},
       "collapsed": false,
       "command": "%sql\n-- How many orders have been shipped to each country?\nselect ShipCountry, count(*) as Orders from orders group by ShipCountry order by Orders desc limit 10; ",
       "commandTitle": "Bar chart",
       "commandType": "auto",
       "commandVersion": 0,
       "commentThread": [],
       "commentsVisible": false,
       "contentSha256Hex": null,
       "customPlotOptions": {
        "plotlyBar": [
         {
          "key": "grouped",
          "value": true
         },
         {
          "key": "stacked",
          "value": false
         },
         {
          "key": "100_stacked",
          "value": false
         }
        ]
       },
       "datasetPreviewNameToCmdIdMap": {},
       "diffDeletes": [],
       "diffInserts": [],
       "displayType": "plotlyBar",
       "error": null,
       "errorSummary": null,
       "errorTraceType": null,
       "finishTime": 0,
       "globalVars": {},
       "guid": "",
       "height": "auto",
       "hideCommandCode": false,
       "hideCommandResult": false,
       "iPythonMetadata": null,
       "inputWidgets": {},
       "isLockedInExamMode": false,
       "latestUser": "a user",
       "latestUserId": null,
       "listResultMetadata": null,
       "metadata": {},
       "nuid": "960f61ac-d78a-40e0-947c-2a7d518ee6fd",
       "origId": 0,
       "parentHierarchy": [],
       "pivotAggregation": "sum",
       "pivotColumns": [],
       "position": 1.0,
       "resultDbfsErrorMessage": null,
       "resultDbfsStatus": "INLINED_IN_TREE",
       "results": null,
       "showCommandTitle": false,
       "startTime": 0,
       "state": "input",
       "streamStates": {},
       "subcommandOptions": null,
       "submitTime": 0,
       "subtype": "tableResultSubCmd.visualization",
       "tableResultIndex": 0,
       "useConsistentColors": true,
       "version": "CommandV1",
       "width": "660",
       "workflows": [],
       "xColumns": [
        "Country"
       ],
       "yColumns": [
        "Orders"
       ]
      }
     },
     "output_type": "display_data"
    }
   ],
   "source": [
    "%sql\n",
    "-- How many orders have been shipped to each country?\n",
    "-- limited # of countries to 10 for analysis and visualization\n",
    "select ShipCountry as Country, count(*) as Orders from orders group by ShipCountry order by Orders desc limit 10; "
   ]
  },
  {
   "cell_type": "code",
   "execution_count": 0,
   "metadata": {
    "application/vnd.databricks.v1+cell": {
     "cellMetadata": {
      "byteLimit": 2048000,
      "implicitDf": true,
      "rowLimit": 10000
     },
     "inputWidgets": {},
     "nuid": "b5ba8c5c-3ac0-4e15-b1c6-063deef194fe",
     "showTitle": false,
     "title": ""
    }
   },
   "outputs": [
    {
     "output_type": "display_data",
     "data": {
      "text/html": [
       "<style scoped>\n",
       "  .table-result-container {\n",
       "    max-height: 300px;\n",
       "    overflow: auto;\n",
       "  }\n",
       "  table, th, td {\n",
       "    border: 1px solid black;\n",
       "    border-collapse: collapse;\n",
       "  }\n",
       "  th, td {\n",
       "    padding: 5px;\n",
       "  }\n",
       "  th {\n",
       "    text-align: left;\n",
       "  }\n",
       "</style><div class='table-result-container'><table class='table-result'><thead style='background-color: white'><tr><th>ProductID</th><th>ProductName</th><th>CompanyName</th></tr></thead><tbody><tr><td>1</td><td>Chai</td><td>Exotic Liquids</td></tr><tr><td>2</td><td>Chang</td><td>Exotic Liquids</td></tr><tr><td>3</td><td>Aniseed Syrup</td><td>Exotic Liquids</td></tr><tr><td>4</td><td>Chef Anton's Cajun Seasoning</td><td>New Orleans Cajun Delights</td></tr><tr><td>5</td><td>Chef Anton's Gumbo Mix</td><td>New Orleans Cajun Delights</td></tr><tr><td>6</td><td>Grandma's Boysenberry Spread</td><td>Grandma Kelly's Homestead</td></tr><tr><td>7</td><td>Uncle Bob's Organic Dried Pears</td><td>Grandma Kelly's Homestead</td></tr><tr><td>8</td><td>Northwoods Cranberry Sauce</td><td>Grandma Kelly's Homestead</td></tr><tr><td>9</td><td>Mishi Kobe Niku</td><td>Tokyo Traders</td></tr><tr><td>10</td><td>Ikura</td><td>Tokyo Traders</td></tr><tr><td>11</td><td>Queso Cabrales</td><td>Cooperativa de Quesos 'Las Cabras'</td></tr><tr><td>12</td><td>Queso Manchego La Pastora</td><td>Cooperativa de Quesos 'Las Cabras'</td></tr><tr><td>13</td><td>Konbu</td><td>Mayumi's</td></tr><tr><td>14</td><td>Tofu</td><td>Mayumi's</td></tr><tr><td>15</td><td>Genen Shouyu</td><td>Mayumi's</td></tr><tr><td>16</td><td>Pavlova</td><td>Pavlova, Ltd.</td></tr><tr><td>17</td><td>Alice Mutton</td><td>Pavlova, Ltd.</td></tr><tr><td>18</td><td>Carnarvon Tigers</td><td>Pavlova, Ltd.</td></tr><tr><td>19</td><td>Teatime Chocolate Biscuits</td><td>Specialty Biscuits, Ltd.</td></tr><tr><td>20</td><td>Sir Rodney's Marmalade</td><td>Specialty Biscuits, Ltd.</td></tr><tr><td>21</td><td>Sir Rodney's Scones</td><td>Specialty Biscuits, Ltd.</td></tr><tr><td>22</td><td>Gustaf's Knäckebröd</td><td>PB Knäckebröd AB</td></tr><tr><td>23</td><td>Tunnbröd</td><td>PB Knäckebröd AB</td></tr><tr><td>24</td><td>Guaraná Fantástica</td><td>Refrescos Americanas LTDA</td></tr><tr><td>25</td><td>NuNuCa Nuß-Nougat-Creme</td><td>Heli Süßwaren GmbH & Co. KG</td></tr><tr><td>26</td><td>Gumbär Gummibärchen</td><td>Heli Süßwaren GmbH & Co. KG</td></tr><tr><td>27</td><td>Schoggi Schokolade</td><td>Heli Süßwaren GmbH & Co. KG</td></tr><tr><td>28</td><td>Rössle Sauerkraut</td><td>Plutzer Lebensmittelgroßmärkte AG</td></tr><tr><td>29</td><td>Thüringer Rostbratwurst</td><td>Plutzer Lebensmittelgroßmärkte AG</td></tr><tr><td>30</td><td>Nord-Ost Matjeshering</td><td>Nord-Ost-Fisch Handelsgesellschaft mbH</td></tr><tr><td>31</td><td>Gorgonzola Telino</td><td>Formaggi Fortini s.r.l.</td></tr><tr><td>32</td><td>Mascarpone Fabioli</td><td>Formaggi Fortini s.r.l.</td></tr><tr><td>33</td><td>Geitost</td><td>Norske Meierier</td></tr><tr><td>34</td><td>Sasquatch Ale</td><td>Bigfoot Breweries</td></tr><tr><td>35</td><td>Steeleye Stout</td><td>Bigfoot Breweries</td></tr><tr><td>36</td><td>Inlagd Sill</td><td>Svensk Sjöföda AB</td></tr><tr><td>37</td><td>Gravad lax</td><td>Svensk Sjöföda AB</td></tr><tr><td>38</td><td>Côte de Blaye</td><td>Aux joyeux ecclésiastiques</td></tr><tr><td>39</td><td>Chartreuse verte</td><td>Aux joyeux ecclésiastiques</td></tr><tr><td>40</td><td>Boston Crab Meat</td><td>New England Seafood Cannery</td></tr><tr><td>41</td><td>Jack's New England Clam Chowder</td><td>New England Seafood Cannery</td></tr><tr><td>42</td><td>Singaporean Hokkien Fried Mee</td><td>Leka Trading</td></tr><tr><td>43</td><td>Ipoh Coffee</td><td>Leka Trading</td></tr><tr><td>44</td><td>Gula Malacca</td><td>Leka Trading</td></tr><tr><td>45</td><td>Rogede sild</td><td>Lyngbysild</td></tr><tr><td>46</td><td>Spegesild</td><td>Lyngbysild</td></tr><tr><td>47</td><td>Zaanse koeken</td><td>Zaanse Snoepfabriek</td></tr><tr><td>48</td><td>Chocolade</td><td>Zaanse Snoepfabriek</td></tr><tr><td>49</td><td>Maxilaku</td><td>Karkki Oy</td></tr><tr><td>50</td><td>Valkoinen suklaa</td><td>Karkki Oy</td></tr><tr><td>51</td><td>Manjimup Dried Apples</td><td>G'day, Mate</td></tr><tr><td>52</td><td>Filo Mix</td><td>G'day, Mate</td></tr><tr><td>53</td><td>Perth Pasties</td><td>G'day, Mate</td></tr><tr><td>54</td><td>Tourtière</td><td>Ma Maison</td></tr><tr><td>55</td><td>Pâté chinois</td><td>Ma Maison</td></tr><tr><td>56</td><td>Gnocchi di nonna Alice</td><td>Pasta Buttini s.r.l.</td></tr><tr><td>57</td><td>Ravioli Angelo</td><td>Pasta Buttini s.r.l.</td></tr><tr><td>58</td><td>Escargots de Bourgogne</td><td>Escargots Nouveaux</td></tr><tr><td>59</td><td>Raclette Courdavault</td><td>Gai pâturage</td></tr><tr><td>60</td><td>Camembert Pierrot</td><td>Gai pâturage</td></tr><tr><td>61</td><td>Sirop d'érable</td><td>Forêts d'érables</td></tr><tr><td>62</td><td>Tarte au sucre</td><td>Forêts d'érables</td></tr><tr><td>63</td><td>Vegie-spread</td><td>Pavlova, Ltd.</td></tr><tr><td>64</td><td>Wimmers gute Semmelknödel</td><td>Plutzer Lebensmittelgroßmärkte AG</td></tr><tr><td>65</td><td>Louisiana Fiery Hot Pepper Sauce</td><td>New Orleans Cajun Delights</td></tr><tr><td>66</td><td>Louisiana Hot Spiced Okra</td><td>New Orleans Cajun Delights</td></tr><tr><td>67</td><td>Laughing Lumberjack Lager</td><td>Bigfoot Breweries</td></tr><tr><td>68</td><td>Scottish Longbreads</td><td>Specialty Biscuits, Ltd.</td></tr><tr><td>69</td><td>Gudbrandsdalsost</td><td>Norske Meierier</td></tr><tr><td>70</td><td>Outback Lager</td><td>Pavlova, Ltd.</td></tr><tr><td>71</td><td>Flotemysost</td><td>Norske Meierier</td></tr><tr><td>72</td><td>Mozzarella di Giovanni</td><td>Formaggi Fortini s.r.l.</td></tr><tr><td>73</td><td>Röd Kaviar</td><td>Svensk Sjöföda AB</td></tr><tr><td>74</td><td>Longlife Tofu</td><td>Tokyo Traders</td></tr><tr><td>75</td><td>Rhönbräu Klosterbier</td><td>Plutzer Lebensmittelgroßmärkte AG</td></tr><tr><td>76</td><td>Lakkalikööri</td><td>Karkki Oy</td></tr><tr><td>77</td><td>Original Frankfurter grüne Soße</td><td>Plutzer Lebensmittelgroßmärkte AG</td></tr></tbody></table></div>"
      ]
     },
     "metadata": {
      "application/vnd.databricks.v1+output": {
       "addedWidgets": {},
       "aggData": [],
       "aggError": "",
       "aggOverflow": false,
       "aggSchema": [],
       "aggSeriesLimitReached": false,
       "aggType": "",
       "arguments": {},
       "columnCustomDisplayInfos": {},
       "data": [
        [
         1,
         "Chai",
         "Exotic Liquids"
        ],
        [
         2,
         "Chang",
         "Exotic Liquids"
        ],
        [
         3,
         "Aniseed Syrup",
         "Exotic Liquids"
        ],
        [
         4,
         "Chef Anton's Cajun Seasoning",
         "New Orleans Cajun Delights"
        ],
        [
         5,
         "Chef Anton's Gumbo Mix",
         "New Orleans Cajun Delights"
        ],
        [
         6,
         "Grandma's Boysenberry Spread",
         "Grandma Kelly's Homestead"
        ],
        [
         7,
         "Uncle Bob's Organic Dried Pears",
         "Grandma Kelly's Homestead"
        ],
        [
         8,
         "Northwoods Cranberry Sauce",
         "Grandma Kelly's Homestead"
        ],
        [
         9,
         "Mishi Kobe Niku",
         "Tokyo Traders"
        ],
        [
         10,
         "Ikura",
         "Tokyo Traders"
        ],
        [
         11,
         "Queso Cabrales",
         "Cooperativa de Quesos 'Las Cabras'"
        ],
        [
         12,
         "Queso Manchego La Pastora",
         "Cooperativa de Quesos 'Las Cabras'"
        ],
        [
         13,
         "Konbu",
         "Mayumi's"
        ],
        [
         14,
         "Tofu",
         "Mayumi's"
        ],
        [
         15,
         "Genen Shouyu",
         "Mayumi's"
        ],
        [
         16,
         "Pavlova",
         "Pavlova, Ltd."
        ],
        [
         17,
         "Alice Mutton",
         "Pavlova, Ltd."
        ],
        [
         18,
         "Carnarvon Tigers",
         "Pavlova, Ltd."
        ],
        [
         19,
         "Teatime Chocolate Biscuits",
         "Specialty Biscuits, Ltd."
        ],
        [
         20,
         "Sir Rodney's Marmalade",
         "Specialty Biscuits, Ltd."
        ],
        [
         21,
         "Sir Rodney's Scones",
         "Specialty Biscuits, Ltd."
        ],
        [
         22,
         "Gustaf's Knäckebröd",
         "PB Knäckebröd AB"
        ],
        [
         23,
         "Tunnbröd",
         "PB Knäckebröd AB"
        ],
        [
         24,
         "Guaraná Fantástica",
         "Refrescos Americanas LTDA"
        ],
        [
         25,
         "NuNuCa Nuß-Nougat-Creme",
         "Heli Süßwaren GmbH & Co. KG"
        ],
        [
         26,
         "Gumbär Gummibärchen",
         "Heli Süßwaren GmbH & Co. KG"
        ],
        [
         27,
         "Schoggi Schokolade",
         "Heli Süßwaren GmbH & Co. KG"
        ],
        [
         28,
         "Rössle Sauerkraut",
         "Plutzer Lebensmittelgroßmärkte AG"
        ],
        [
         29,
         "Thüringer Rostbratwurst",
         "Plutzer Lebensmittelgroßmärkte AG"
        ],
        [
         30,
         "Nord-Ost Matjeshering",
         "Nord-Ost-Fisch Handelsgesellschaft mbH"
        ],
        [
         31,
         "Gorgonzola Telino",
         "Formaggi Fortini s.r.l."
        ],
        [
         32,
         "Mascarpone Fabioli",
         "Formaggi Fortini s.r.l."
        ],
        [
         33,
         "Geitost",
         "Norske Meierier"
        ],
        [
         34,
         "Sasquatch Ale",
         "Bigfoot Breweries"
        ],
        [
         35,
         "Steeleye Stout",
         "Bigfoot Breweries"
        ],
        [
         36,
         "Inlagd Sill",
         "Svensk Sjöföda AB"
        ],
        [
         37,
         "Gravad lax",
         "Svensk Sjöföda AB"
        ],
        [
         38,
         "Côte de Blaye",
         "Aux joyeux ecclésiastiques"
        ],
        [
         39,
         "Chartreuse verte",
         "Aux joyeux ecclésiastiques"
        ],
        [
         40,
         "Boston Crab Meat",
         "New England Seafood Cannery"
        ],
        [
         41,
         "Jack's New England Clam Chowder",
         "New England Seafood Cannery"
        ],
        [
         42,
         "Singaporean Hokkien Fried Mee",
         "Leka Trading"
        ],
        [
         43,
         "Ipoh Coffee",
         "Leka Trading"
        ],
        [
         44,
         "Gula Malacca",
         "Leka Trading"
        ],
        [
         45,
         "Rogede sild",
         "Lyngbysild"
        ],
        [
         46,
         "Spegesild",
         "Lyngbysild"
        ],
        [
         47,
         "Zaanse koeken",
         "Zaanse Snoepfabriek"
        ],
        [
         48,
         "Chocolade",
         "Zaanse Snoepfabriek"
        ],
        [
         49,
         "Maxilaku",
         "Karkki Oy"
        ],
        [
         50,
         "Valkoinen suklaa",
         "Karkki Oy"
        ],
        [
         51,
         "Manjimup Dried Apples",
         "G'day, Mate"
        ],
        [
         52,
         "Filo Mix",
         "G'day, Mate"
        ],
        [
         53,
         "Perth Pasties",
         "G'day, Mate"
        ],
        [
         54,
         "Tourtière",
         "Ma Maison"
        ],
        [
         55,
         "Pâté chinois",
         "Ma Maison"
        ],
        [
         56,
         "Gnocchi di nonna Alice",
         "Pasta Buttini s.r.l."
        ],
        [
         57,
         "Ravioli Angelo",
         "Pasta Buttini s.r.l."
        ],
        [
         58,
         "Escargots de Bourgogne",
         "Escargots Nouveaux"
        ],
        [
         59,
         "Raclette Courdavault",
         "Gai pâturage"
        ],
        [
         60,
         "Camembert Pierrot",
         "Gai pâturage"
        ],
        [
         61,
         "Sirop d'érable",
         "Forêts d'érables"
        ],
        [
         62,
         "Tarte au sucre",
         "Forêts d'érables"
        ],
        [
         63,
         "Vegie-spread",
         "Pavlova, Ltd."
        ],
        [
         64,
         "Wimmers gute Semmelknödel",
         "Plutzer Lebensmittelgroßmärkte AG"
        ],
        [
         65,
         "Louisiana Fiery Hot Pepper Sauce",
         "New Orleans Cajun Delights"
        ],
        [
         66,
         "Louisiana Hot Spiced Okra",
         "New Orleans Cajun Delights"
        ],
        [
         67,
         "Laughing Lumberjack Lager",
         "Bigfoot Breweries"
        ],
        [
         68,
         "Scottish Longbreads",
         "Specialty Biscuits, Ltd."
        ],
        [
         69,
         "Gudbrandsdalsost",
         "Norske Meierier"
        ],
        [
         70,
         "Outback Lager",
         "Pavlova, Ltd."
        ],
        [
         71,
         "Flotemysost",
         "Norske Meierier"
        ],
        [
         72,
         "Mozzarella di Giovanni",
         "Formaggi Fortini s.r.l."
        ],
        [
         73,
         "Röd Kaviar",
         "Svensk Sjöföda AB"
        ],
        [
         74,
         "Longlife Tofu",
         "Tokyo Traders"
        ],
        [
         75,
         "Rhönbräu Klosterbier",
         "Plutzer Lebensmittelgroßmärkte AG"
        ],
        [
         76,
         "Lakkalikööri",
         "Karkki Oy"
        ],
        [
         77,
         "Original Frankfurter grüne Soße",
         "Plutzer Lebensmittelgroßmärkte AG"
        ]
       ],
       "datasetInfos": [],
       "dbfsResultPath": null,
       "isJsonSchema": true,
       "metadata": {},
       "overflow": false,
       "plotOptions": {
        "customPlotOptions": {},
        "displayType": "table",
        "pivotAggregation": null,
        "pivotColumns": null,
        "xColumns": null,
        "yColumns": null
       },
       "removedWidgets": [],
       "schema": [
        {
         "metadata": "{}",
         "name": "ProductID",
         "type": "\"integer\""
        },
        {
         "metadata": "{}",
         "name": "ProductName",
         "type": "\"string\""
        },
        {
         "metadata": "{}",
         "name": "CompanyName",
         "type": "\"string\""
        }
       ],
       "type": "table"
      }
     },
     "output_type": "display_data"
    }
   ],
   "source": [
    "%sql\n",
    "-- For each product, list its product ID, product name, and the company name\n",
    "select p.ProductID, p.ProductName, s.CompanyName\n",
    "from products as p\n",
    "inner join suppliers as s\n",
    "  on p.SupplierID = s.SupplierID;"
   ]
  },
  {
   "cell_type": "code",
   "execution_count": 0,
   "metadata": {
    "application/vnd.databricks.v1+cell": {
     "cellMetadata": {
      "byteLimit": 2048000,
      "implicitDf": true,
      "rowLimit": 10000
     },
     "inputWidgets": {},
     "nuid": "94617223-ea6a-4f6a-afcc-41c9c5b2799d",
     "showTitle": false,
     "title": ""
    }
   },
   "outputs": [
    {
     "output_type": "display_data",
     "data": {
      "text/html": [
       "<style scoped>\n",
       "  .table-result-container {\n",
       "    max-height: 300px;\n",
       "    overflow: auto;\n",
       "  }\n",
       "  table, th, td {\n",
       "    border: 1px solid black;\n",
       "    border-collapse: collapse;\n",
       "  }\n",
       "  th, td {\n",
       "    padding: 5px;\n",
       "  }\n",
       "  th {\n",
       "    text-align: left;\n",
       "  }\n",
       "</style><div class='table-result-container'><table class='table-result'><thead style='background-color: white'><tr><th>CategoryName</th><th>ProductCount</th></tr></thead><tbody><tr><td>Confections</td><td>13</td></tr><tr><td>Condiments</td><td>12</td></tr><tr><td>Beverages</td><td>12</td></tr><tr><td>Seafood</td><td>12</td></tr><tr><td>Dairy Products</td><td>10</td></tr><tr><td>Grains/Cereals</td><td>7</td></tr><tr><td>Meat/Poultry</td><td>6</td></tr><tr><td>Produce</td><td>5</td></tr></tbody></table></div>"
      ]
     },
     "metadata": {
      "application/vnd.databricks.v1+output": {
       "addedWidgets": {},
       "aggData": [],
       "aggError": "",
       "aggOverflow": false,
       "aggSchema": [],
       "aggSeriesLimitReached": false,
       "aggType": "",
       "arguments": {},
       "columnCustomDisplayInfos": {},
       "data": [
        [
         "Confections",
         13
        ],
        [
         "Condiments",
         12
        ],
        [
         "Beverages",
         12
        ],
        [
         "Seafood",
         12
        ],
        [
         "Dairy Products",
         10
        ],
        [
         "Grains/Cereals",
         7
        ],
        [
         "Meat/Poultry",
         6
        ],
        [
         "Produce",
         5
        ]
       ],
       "datasetInfos": [],
       "dbfsResultPath": null,
       "isJsonSchema": true,
       "metadata": {},
       "overflow": false,
       "plotOptions": {
        "customPlotOptions": {},
        "displayType": "plotlyBar",
        "pivotAggregation": null,
        "pivotColumns": null,
        "xColumns": null,
        "yColumns": null
       },
       "removedWidgets": [],
       "schema": [
        {
         "metadata": "{}",
         "name": "CategoryName",
         "type": "\"string\""
        },
        {
         "metadata": "{}",
         "name": "ProductCount",
         "type": "\"long\""
        }
       ],
       "type": "table"
      }
     },
     "output_type": "display_data"
    }
   ],
   "source": [
    "%sql\n",
    "--How many products exist in each category?\n",
    "select c.CategoryName, count(*) as ProductCount\n",
    "from products as p\n",
    "inner join categories as c\n",
    "on p.CategoryID = c.CategoryID\n",
    "group by c.CategoryName\n",
    "order by ProductCount desc;"
   ]
  },
  {
   "cell_type": "code",
   "execution_count": 0,
   "metadata": {
    "application/vnd.databricks.v1+cell": {
     "cellMetadata": {
      "byteLimit": 2048000,
      "implicitDf": true,
      "rowLimit": 10000
     },
     "inputWidgets": {},
     "nuid": "2d8ef517-61f2-4369-8709-996a378cacee",
     "showTitle": false,
     "title": ""
    }
   },
   "outputs": [
    {
     "output_type": "display_data",
     "data": {
      "text/html": [
       "<style scoped>\n",
       "  .table-result-container {\n",
       "    max-height: 300px;\n",
       "    overflow: auto;\n",
       "  }\n",
       "  table, th, td {\n",
       "    border: 1px solid black;\n",
       "    border-collapse: collapse;\n",
       "  }\n",
       "  th, td {\n",
       "    padding: 5px;\n",
       "  }\n",
       "  th {\n",
       "    text-align: left;\n",
       "  }\n",
       "</style><div class='table-result-container'><table class='table-result'><thead style='background-color: white'><tr><th>Country</th><th>Customers</th></tr></thead><tbody><tr><td>USA</td><td>13</td></tr><tr><td>Germany</td><td>11</td></tr><tr><td>France</td><td>11</td></tr><tr><td>Brazil</td><td>9</td></tr><tr><td>UK</td><td>7</td></tr><tr><td>Spain</td><td>5</td></tr><tr><td>Mexico</td><td>5</td></tr><tr><td>Venezuela</td><td>4</td></tr><tr><td>Argentina</td><td>3</td></tr><tr><td>Italy</td><td>3</td></tr></tbody></table></div>"
      ]
     },
     "metadata": {
      "application/vnd.databricks.v1+output": {
       "addedWidgets": {},
       "aggData": [],
       "aggError": "",
       "aggOverflow": false,
       "aggSchema": [],
       "aggSeriesLimitReached": false,
       "aggType": "",
       "arguments": {},
       "columnCustomDisplayInfos": {},
       "data": [
        [
         "USA",
         13
        ],
        [
         "Germany",
         11
        ],
        [
         "France",
         11
        ],
        [
         "Brazil",
         9
        ],
        [
         "UK",
         7
        ],
        [
         "Spain",
         5
        ],
        [
         "Mexico",
         5
        ],
        [
         "Venezuela",
         4
        ],
        [
         "Argentina",
         3
        ],
        [
         "Italy",
         3
        ]
       ],
       "datasetInfos": [],
       "dbfsResultPath": null,
       "isJsonSchema": true,
       "metadata": {},
       "overflow": false,
       "plotOptions": {
        "customPlotOptions": {},
        "displayType": "plotlyBar",
        "pivotAggregation": null,
        "pivotColumns": null,
        "xColumns": null,
        "yColumns": null
       },
       "removedWidgets": [],
       "schema": [
        {
         "metadata": "{}",
         "name": "Country",
         "type": "\"string\""
        },
        {
         "metadata": "{}",
         "name": "Customers",
         "type": "\"long\""
        }
       ],
       "type": "table"
      }
     },
     "output_type": "display_data"
    }
   ],
   "source": [
    "%sql\n",
    "-- Which 5 countries have the most customers?\n",
    "-- Increasd # of countries to 10 to gather more information\n",
    "select Country, count(*) as Customers from customers group by Country order by Customers desc limit 10;"
   ]
  },
  {
   "cell_type": "code",
   "execution_count": 0,
   "metadata": {
    "application/vnd.databricks.v1+cell": {
     "cellMetadata": {
      "byteLimit": 2048000,
      "implicitDf": true,
      "rowLimit": 10000
     },
     "inputWidgets": {},
     "nuid": "df4489e4-999d-4c5d-83be-5e84718d63b2",
     "showTitle": false,
     "title": ""
    }
   },
   "outputs": [
    {
     "output_type": "display_data",
     "data": {
      "text/plain": [
       "Databricks visualization. Run in Databricks to view."
      ]
     },
     "metadata": {
      "application/vnd.databricks.v1.subcommand+json": {
       "bindings": {},
       "collapsed": false,
       "command": "%sql\n-- Which 5 countries have the heaviest shipments, on average?\nselect ShipCountry, avg('Freight') as AverageFreight from orders group by ShipCountry order by AverageFreight desc limit 5;",
       "commandTitle": "Bar chart",
       "commandType": "auto",
       "commandVersion": 0,
       "commentThread": [],
       "commentsVisible": false,
       "contentSha256Hex": null,
       "customPlotOptions": {},
       "datasetPreviewNameToCmdIdMap": {},
       "diffDeletes": [],
       "diffInserts": [],
       "displayType": "plotlyBar",
       "error": null,
       "errorSummary": null,
       "errorTraceType": null,
       "finishTime": 0,
       "globalVars": {},
       "guid": "",
       "height": "auto",
       "hideCommandCode": false,
       "hideCommandResult": false,
       "iPythonMetadata": null,
       "inputWidgets": {},
       "isLockedInExamMode": false,
       "latestUser": "a user",
       "latestUserId": null,
       "listResultMetadata": null,
       "metadata": {},
       "nuid": "c38d8e10-425f-42b1-9518-c4978a8cf886",
       "origId": 0,
       "parentHierarchy": [],
       "pivotAggregation": null,
       "pivotColumns": null,
       "position": -1.0,
       "resultDbfsErrorMessage": null,
       "resultDbfsStatus": "INLINED_IN_TREE",
       "results": null,
       "showCommandTitle": false,
       "startTime": 0,
       "state": "input",
       "streamStates": {},
       "subcommandOptions": null,
       "submitTime": 0,
       "subtype": "tableResultSubCmd.visualization",
       "tableResultIndex": 0,
       "useConsistentColors": false,
       "version": "CommandV1",
       "width": "660",
       "workflows": [],
       "xColumns": null,
       "yColumns": null
      }
     },
     "output_type": "display_data"
    },
    {
     "output_type": "display_data",
     "data": {
      "text/html": [
       "<style scoped>\n",
       "  .table-result-container {\n",
       "    max-height: 300px;\n",
       "    overflow: auto;\n",
       "  }\n",
       "  table, th, td {\n",
       "    border: 1px solid black;\n",
       "    border-collapse: collapse;\n",
       "  }\n",
       "  th, td {\n",
       "    padding: 5px;\n",
       "  }\n",
       "  th {\n",
       "    text-align: left;\n",
       "  }\n",
       "</style><div class='table-result-container'><table class='table-result'><thead style='background-color: white'><tr><th>Country</th><th>AverageFreight</th></tr></thead><tbody><tr><td>Austria</td><td>184.78750000000002</td></tr><tr><td>Ireland</td><td>145.01263157894738</td></tr><tr><td>USA</td><td>112.87942622950818</td></tr><tr><td>Germany</td><td>92.48590163934426</td></tr><tr><td>Sweden</td><td>87.50270270270272</td></tr><tr><td>Denmark</td><td>77.56611111111111</td></tr><tr><td>Switzerland</td><td>76.02944444444444</td></tr><tr><td>Canada</td><td>73.26966666666667</td></tr><tr><td>Belgium</td><td>67.37578947368422</td></tr><tr><td>Venezuela</td><td>59.460434782608694</td></tr></tbody></table></div>"
      ]
     },
     "metadata": {
      "application/vnd.databricks.v1+output": {
       "addedWidgets": {},
       "aggData": [],
       "aggError": "",
       "aggOverflow": false,
       "aggSchema": [],
       "aggSeriesLimitReached": false,
       "aggType": "",
       "arguments": {},
       "columnCustomDisplayInfos": {},
       "data": [
        [
         "Austria",
         184.78750000000002
        ],
        [
         "Ireland",
         145.01263157894738
        ],
        [
         "USA",
         112.87942622950818
        ],
        [
         "Germany",
         92.48590163934426
        ],
        [
         "Sweden",
         87.50270270270272
        ],
        [
         "Denmark",
         77.56611111111111
        ],
        [
         "Switzerland",
         76.02944444444444
        ],
        [
         "Canada",
         73.26966666666667
        ],
        [
         "Belgium",
         67.37578947368422
        ],
        [
         "Venezuela",
         59.460434782608694
        ]
       ],
       "datasetInfos": [],
       "dbfsResultPath": null,
       "isJsonSchema": true,
       "metadata": {},
       "overflow": false,
       "plotOptions": {
        "customPlotOptions": {
         "__migrate__": [
          {
           "key": "status",
           "value": "complete"
          },
          {
           "key": "origDisplayType",
           "value": "plotlyBar"
          }
         ],
         "plotlyBar": [
          {
           "key": "grouped",
           "value": true
          },
          {
           "key": "stacked",
           "value": false
          },
          {
           "key": "100_stacked",
           "value": false
          }
         ]
        },
        "displayType": "table",
        "pivotAggregation": null,
        "pivotColumns": null,
        "xColumns": null,
        "yColumns": null
       },
       "removedWidgets": [],
       "schema": [
        {
         "metadata": "{}",
         "name": "Country",
         "type": "\"string\""
        },
        {
         "metadata": "{}",
         "name": "AverageFreight",
         "type": "\"double\""
        }
       ],
       "type": "table"
      }
     },
     "output_type": "display_data"
    },
    {
     "output_type": "display_data",
     "data": {
      "text/plain": [
       "Databricks visualization. Run in Databricks to view."
      ]
     },
     "metadata": {
      "application/vnd.databricks.v1.subcommand+json": {
       "bindings": {},
       "collapsed": false,
       "command": "%sql WITH q AS (select ShipCountry as Country, avg(Freight) as AverageFreight from orders group by ShipCountry order by AverageFreight desc limit 10) SELECT `Country`,SUM(`AverageFreight`) `column_555f0ab8458` FROM q GROUP BY `Country`",
       "commandTitle": "Visualization 1",
       "commandType": "auto",
       "commandVersion": 0,
       "commentThread": [],
       "commentsVisible": false,
       "contentSha256Hex": null,
       "customPlotOptions": {
        "redashChart": [
         {
          "key": "type",
          "value": "CHART"
         },
         {
          "key": "options",
          "value": {
           "alignYAxesAtZero": true,
           "coefficient": 1,
           "columnConfigurationMap": {
            "x": {
             "column": "Country",
             "id": "column_555f0ab8457"
            },
            "y": [
             {
              "column": "AverageFreight",
              "id": "column_555f0ab8458",
              "transform": "SUM"
             }
            ]
           },
           "dateTimeFormat": "DD/MM/YYYY HH:mm",
           "direction": {
            "type": "counterclockwise"
           },
           "error_y": {
            "type": "data",
            "visible": true
           },
           "globalSeriesType": "column",
           "isAggregationOn": true,
           "legend": {
            "traceorder": "normal"
           },
           "missingValuesAsZero": true,
           "numberFormat": "0,0[.]00000",
           "percentFormat": "0[.]00%",
           "series": {
            "error_y": {
             "type": "data",
             "visible": true
            },
            "stacking": null
           },
           "seriesOptions": {
            "column_555f0ab8458": {
             "color": "#E92828",
             "name": "AverageFreight",
             "yAxis": 0
            }
           },
           "showDataLabels": false,
           "sizemode": "diameter",
           "sortX": false,
           "sortY": true,
           "swappedAxes": false,
           "textFormat": "",
           "useAggregationsUi": true,
           "valuesOptions": {},
           "version": 2,
           "xAxis": {
            "labels": {
             "enabled": true
            },
            "type": "-"
           },
           "yAxis": [
            {
             "type": "-"
            },
            {
             "opposite": true,
             "type": "-"
            }
           ]
          }
         }
        ]
       },
       "datasetPreviewNameToCmdIdMap": {},
       "diffDeletes": [],
       "diffInserts": [],
       "displayType": "redashChart",
       "error": null,
       "errorSummary": null,
       "errorTraceType": null,
       "finishTime": 0,
       "globalVars": {},
       "guid": "",
       "height": "409",
       "hideCommandCode": false,
       "hideCommandResult": false,
       "iPythonMetadata": null,
       "inputWidgets": {},
       "isLockedInExamMode": false,
       "latestUser": "a user",
       "latestUserId": null,
       "listResultMetadata": null,
       "metadata": {},
       "nuid": "f6bc0285-8395-4586-a007-7b9ee618bd83",
       "origId": 0,
       "parentHierarchy": [],
       "pivotAggregation": null,
       "pivotColumns": null,
       "position": 10.5,
       "resultDbfsErrorMessage": null,
       "resultDbfsStatus": "INLINED_IN_TREE",
       "results": null,
       "showCommandTitle": false,
       "startTime": 0,
       "state": "input",
       "streamStates": {},
       "subcommandOptions": {
        "queryPlan": {
         "groups": [
          {
           "column": "Country",
           "type": "column"
          }
         ],
         "selects": [
          {
           "column": "Country",
           "type": "column"
          },
          {
           "alias": "column_555f0ab8458",
           "args": [
            {
             "column": "AverageFreight",
             "type": "column"
            }
           ],
           "function": "SUM",
           "type": "function"
          }
         ]
        }
       },
       "submitTime": 0,
       "subtype": "tableResultSubCmd.visualization",
       "tableResultIndex": 0,
       "useConsistentColors": false,
       "version": "CommandV1",
       "width": "643",
       "workflows": [],
       "xColumns": null,
       "yColumns": null
      }
     },
     "output_type": "display_data"
    }
   ],
   "source": [
    "%sql\n",
    "-- Which 5 countries have the heaviest shipments, on average?\n",
    "-- Increased # of countries to 10 to gather more information\n",
    "select ShipCountry as Country, avg(Freight) as AverageFreight from orders group by ShipCountry order by AverageFreight desc limit 10;"
   ]
  },
  {
   "cell_type": "code",
   "execution_count": 0,
   "metadata": {
    "application/vnd.databricks.v1+cell": {
     "cellMetadata": {
      "byteLimit": 2048000,
      "implicitDf": true,
      "rowLimit": 10000
     },
     "inputWidgets": {},
     "nuid": "beb13d7b-b8fb-493c-9d0e-7fae8efe4529",
     "showTitle": false,
     "title": ""
    }
   },
   "outputs": [
    {
     "output_type": "display_data",
     "data": {
      "text/html": [
       "<style scoped>\n",
       "  .table-result-container {\n",
       "    max-height: 300px;\n",
       "    overflow: auto;\n",
       "  }\n",
       "  table, th, td {\n",
       "    border: 1px solid black;\n",
       "    border-collapse: collapse;\n",
       "  }\n",
       "  th, td {\n",
       "    padding: 5px;\n",
       "  }\n",
       "  th {\n",
       "    text-align: left;\n",
       "  }\n",
       "</style><div class='table-result-container'><table class='table-result'><thead style='background-color: white'><tr><th>CompanyName</th><th>Contact</th><th>Country</th><th>NumberOfOrders</th></tr></thead><tbody><tr><td>Save-a-lot Markets</td><td>Jose Pavarotti</td><td>USA</td><td>31</td></tr><tr><td>Ernst Handel</td><td>Roland Mendel</td><td>Austria</td><td>30</td></tr><tr><td>QUICK-Stop</td><td>Horst Kloss</td><td>Germany</td><td>28</td></tr><tr><td>Folk och fä HB</td><td>Maria Larsson</td><td>Sweden</td><td>19</td></tr><tr><td>Hungry Owl All-Night Grocers</td><td>Patricia McKenna</td><td>Ireland</td><td>19</td></tr><tr><td>Berglunds snabbköp</td><td>Christina Berglund</td><td>Sweden</td><td>18</td></tr><tr><td>HILARION-Abastos</td><td>Carlos Hernández</td><td>Venezuela</td><td>18</td></tr><tr><td>Rattlesnake Canyon Grocery</td><td>Paula Wilson</td><td>USA</td><td>18</td></tr><tr><td>Bon app'</td><td>Laurence Lebihan</td><td>France</td><td>17</td></tr><tr><td>Frankenversand</td><td>Peter Franken</td><td>Germany</td><td>15</td></tr></tbody></table></div>"
      ]
     },
     "metadata": {
      "application/vnd.databricks.v1+output": {
       "addedWidgets": {},
       "aggData": [],
       "aggError": "",
       "aggOverflow": false,
       "aggSchema": [],
       "aggSeriesLimitReached": false,
       "aggType": "",
       "arguments": {},
       "columnCustomDisplayInfos": {},
       "data": [
        [
         "Save-a-lot Markets",
         "Jose Pavarotti",
         "USA",
         31
        ],
        [
         "Ernst Handel",
         "Roland Mendel",
         "Austria",
         30
        ],
        [
         "QUICK-Stop",
         "Horst Kloss",
         "Germany",
         28
        ],
        [
         "Folk och fä HB",
         "Maria Larsson",
         "Sweden",
         19
        ],
        [
         "Hungry Owl All-Night Grocers",
         "Patricia McKenna",
         "Ireland",
         19
        ],
        [
         "Berglunds snabbköp",
         "Christina Berglund",
         "Sweden",
         18
        ],
        [
         "HILARION-Abastos",
         "Carlos Hernández",
         "Venezuela",
         18
        ],
        [
         "Rattlesnake Canyon Grocery",
         "Paula Wilson",
         "USA",
         18
        ],
        [
         "Bon app'",
         "Laurence Lebihan",
         "France",
         17
        ],
        [
         "Frankenversand",
         "Peter Franken",
         "Germany",
         15
        ]
       ],
       "datasetInfos": [],
       "dbfsResultPath": null,
       "isJsonSchema": true,
       "metadata": {},
       "overflow": false,
       "plotOptions": {
        "customPlotOptions": {},
        "displayType": "table",
        "pivotAggregation": null,
        "pivotColumns": null,
        "xColumns": null,
        "yColumns": null
       },
       "removedWidgets": [],
       "schema": [
        {
         "metadata": "{}",
         "name": "CompanyName",
         "type": "\"string\""
        },
        {
         "metadata": "{}",
         "name": "Contact",
         "type": "\"string\""
        },
        {
         "metadata": "{}",
         "name": "Country",
         "type": "\"string\""
        },
        {
         "metadata": "{}",
         "name": "NumberOfOrders",
         "type": "\"long\""
        }
       ],
       "type": "table"
      }
     },
     "output_type": "display_data"
    }
   ],
   "source": [
    "%sql\n",
    "-- Which 10 companies have placed the most orders?\n",
    "-- List the company contacts as well\n",
    "select c.CompanyName, first(c.ContactName) as Contact, first(c.Country) as Country, count(*) as NumberOfOrders\n",
    "from orders as o\n",
    "inner join customers as c\n",
    "  on o.CustomerID = c.CustomerID\n",
    "group by c.CompanyName\n",
    "order by NumberOfOrders desc\n",
    "limit 10;"
   ]
  },
  {
   "cell_type": "code",
   "execution_count": 0,
   "metadata": {
    "application/vnd.databricks.v1+cell": {
     "cellMetadata": {
      "byteLimit": 2048000,
      "implicitDf": true,
      "rowLimit": 10000
     },
     "inputWidgets": {},
     "nuid": "cc1f51bd-4981-4ab0-b928-f68957b62d06",
     "showTitle": false,
     "title": ""
    }
   },
   "outputs": [
    {
     "output_type": "display_data",
     "data": {
      "text/html": [
       "<style scoped>\n",
       "  .table-result-container {\n",
       "    max-height: 300px;\n",
       "    overflow: auto;\n",
       "  }\n",
       "  table, th, td {\n",
       "    border: 1px solid black;\n",
       "    border-collapse: collapse;\n",
       "  }\n",
       "  th, td {\n",
       "    padding: 5px;\n",
       "  }\n",
       "  th {\n",
       "    text-align: left;\n",
       "  }\n",
       "</style><div class='table-result-container'><table class='table-result'><thead style='background-color: white'><tr><th>CompanyName</th><th>TotalSpending</th></tr></thead><tbody><tr><td>QUICK-Stop</td><td>110277.30500000001</td></tr><tr><td>Ernst Handel</td><td>104874.9785</td></tr><tr><td>Save-a-lot Markets</td><td>104361.95000000001</td></tr><tr><td>Rattlesnake Canyon Grocery</td><td>51097.80049999999</td></tr><tr><td>Hungry Owl All-Night Grocers</td><td>49979.90500000001</td></tr><tr><td>Hanari Carnes</td><td>32841.369999999995</td></tr><tr><td>Königlich Essen</td><td>30908.384000000002</td></tr><tr><td>Folk och fä HB</td><td>29567.5625</td></tr><tr><td>Mère Paillarde</td><td>28872.190000000002</td></tr><tr><td>White Clover Markets</td><td>27363.605000000003</td></tr><tr><td>Frankenversand</td><td>26656.559499999996</td></tr><tr><td>Queen Cozinha</td><td>25717.497500000005</td></tr><tr><td>Berglunds snabbköp</td><td>24927.5775</td></tr><tr><td>Suprêmes délices</td><td>24088.78</td></tr><tr><td>Piccolo und mehr</td><td>23128.86</td></tr><tr><td>HILARION-Abastos</td><td>22768.764000000003</td></tr><tr><td>Bon app'</td><td>21963.252500000002</td></tr><tr><td>Bottom-Dollar Markets</td><td>20801.6</td></tr><tr><td>Richter Supermarkt</td><td>19343.779000000002</td></tr><tr><td>Lehmanns Marktstand</td><td>19261.41</td></tr><tr><td>Blondesddsl père et fils</td><td>18534.08</td></tr><tr><td>Great Lakes Food Market</td><td>18507.45</td></tr><tr><td>Simons bistro</td><td>16817.0975</td></tr><tr><td>LINO-Delicateses</td><td>16476.565000000002</td></tr><tr><td>Seven Seas Imports</td><td>16215.324999999997</td></tr><tr><td>LILA-Supermercado</td><td>16076.599999999999</td></tr><tr><td>Vaffeljernet</td><td>15843.925000000001</td></tr><tr><td>Wartian Herkku</td><td>15648.7025</td></tr><tr><td>Old World Delicatessen</td><td>15177.4625</td></tr><tr><td>Eastern Connection</td><td>14761.035</td></tr><tr><td>Around the Horn</td><td>13390.650000000001</td></tr><tr><td>Ottilies Käseladen</td><td>12496.2</td></tr><tr><td>Ricardo Adocicados</td><td>12450.8</td></tr><tr><td>Chop-suey Chinese</td><td>12348.88</td></tr><tr><td>Folies gourmandes</td><td>11666.9</td></tr><tr><td>Godos Cocina Típica</td><td>11446.36</td></tr><tr><td>Split Rail Beer & Ale</td><td>11441.630000000001</td></tr><tr><td>Tortuga Restaurante</td><td>10812.15</td></tr><tr><td>Maison Dewey</td><td>9736.074999999999</td></tr><tr><td>Die Wandernde Kuh</td><td>9588.425</td></tr><tr><td>La maison d'Asie</td><td>9328.199999999999</td></tr><tr><td>Victuailles en stock</td><td>9182.43</td></tr><tr><td>Gourmet Lanchonetes</td><td>8414.135</td></tr><tr><td>Magazzini Alimentari Riuniti</td><td>7176.215</td></tr><tr><td>Reggiani Caseifici</td><td>7048.24</td></tr><tr><td>Antonio Moreno Taquería</td><td>7023.9775</td></tr><tr><td>Tradição Hipermercados</td><td>6850.664</td></tr><tr><td>Que Delícia</td><td>6664.810000000001</td></tr><tr><td>Furia Bacalhau e Frutos do Mar</td><td>6427.4225000000015</td></tr><tr><td>Island Trading</td><td>6146.3</td></tr><tr><td>B's Beverages</td><td>6089.900000000001</td></tr><tr><td>Wellington Importadora</td><td>6068.200000000001</td></tr><tr><td>Santé Gourmet</td><td>5735.15</td></tr><tr><td>Princesa Isabel Vinhos</td><td>5044.9400000000005</td></tr><tr><td>Morgenstern Gesundkost</td><td>5042.200000000001</td></tr><tr><td>Toms Spezialitäten</td><td>4778.139999999999</td></tr><tr><td>Alfreds Futterkiste</td><td>4273.0</td></tr><tr><td>Lonesome Pine Restaurant</td><td>4258.6</td></tr><tr><td>Pericles Comidas clásicas</td><td>4242.2</td></tr><tr><td>Bólido Comidas preparadas</td><td>4232.85</td></tr><tr><td>Familia Arquibaldo</td><td>4107.55</td></tr><tr><td>Comércio Mineiro</td><td>3810.75</td></tr><tr><td>Drachenblut Delikatessen</td><td>3763.2099999999996</td></tr><tr><td>Wolski  Zajazd</td><td>3531.95</td></tr><tr><td>Océano Atlántico Ltda.</td><td>3460.2</td></tr><tr><td>The Big Cheese</td><td>3361.0</td></tr><tr><td>Blauer See Delikatessen</td><td>3239.8</td></tr><tr><td>France restauration</td><td>3172.16</td></tr><tr><td>Wilman Kala</td><td>3161.35</td></tr><tr><td>Let's Stop N Shop</td><td>3076.4725</td></tr><tr><td>Hungry Coyote Import Store</td><td>3063.2</td></tr><tr><td>Rancho grande</td><td>2844.1</td></tr><tr><td>Spécialités du monde</td><td>2423.35</td></tr><tr><td>La corne d'abondance</td><td>1992.0500000000002</td></tr><tr><td>The Cracker Box</td><td>1947.24</td></tr><tr><td>Cactus Comidas para llevar</td><td>1814.8</td></tr><tr><td>Consolidated Holdings</td><td>1719.1</td></tr><tr><td>Du monde entier</td><td>1615.9</td></tr><tr><td>Trail's Head Gourmet Provisioners</td><td>1571.1999999999998</td></tr><tr><td>Franchi S.p.A.</td><td>1545.7</td></tr><tr><td>GROSELLA-Restaurante</td><td>1488.7</td></tr><tr><td>Vins et alcools Chevalier</td><td>1480.0</td></tr><tr><td>Romero y tomillo</td><td>1467.2900000000002</td></tr><tr><td>Ana Trujillo Emparedados y helados</td><td>1402.95</td></tr><tr><td>Galería del gastrónomo</td><td>836.7</td></tr><tr><td>North/South</td><td>649.0</td></tr><tr><td>Laughing Bacchus Wine Cellars</td><td>522.5</td></tr><tr><td>Lazy K Kountry Store</td><td>357.0</td></tr><tr><td>Centro comercial Moctezuma</td><td>100.8</td></tr></tbody></table></div>"
      ]
     },
     "metadata": {
      "application/vnd.databricks.v1+output": {
       "addedWidgets": {},
       "aggData": [],
       "aggError": "",
       "aggOverflow": false,
       "aggSchema": [],
       "aggSeriesLimitReached": false,
       "aggType": "",
       "arguments": {},
       "columnCustomDisplayInfos": {},
       "data": [
        [
         "QUICK-Stop",
         110277.30500000001
        ],
        [
         "Ernst Handel",
         104874.9785
        ],
        [
         "Save-a-lot Markets",
         104361.95000000001
        ],
        [
         "Rattlesnake Canyon Grocery",
         51097.80049999999
        ],
        [
         "Hungry Owl All-Night Grocers",
         49979.90500000001
        ],
        [
         "Hanari Carnes",
         32841.369999999995
        ],
        [
         "Königlich Essen",
         30908.384000000002
        ],
        [
         "Folk och fä HB",
         29567.5625
        ],
        [
         "Mère Paillarde",
         28872.190000000002
        ],
        [
         "White Clover Markets",
         27363.605000000003
        ],
        [
         "Frankenversand",
         26656.559499999996
        ],
        [
         "Queen Cozinha",
         25717.497500000005
        ],
        [
         "Berglunds snabbköp",
         24927.5775
        ],
        [
         "Suprêmes délices",
         24088.78
        ],
        [
         "Piccolo und mehr",
         23128.86
        ],
        [
         "HILARION-Abastos",
         22768.764000000003
        ],
        [
         "Bon app'",
         21963.252500000002
        ],
        [
         "Bottom-Dollar Markets",
         20801.6
        ],
        [
         "Richter Supermarkt",
         19343.779000000002
        ],
        [
         "Lehmanns Marktstand",
         19261.41
        ],
        [
         "Blondesddsl père et fils",
         18534.08
        ],
        [
         "Great Lakes Food Market",
         18507.45
        ],
        [
         "Simons bistro",
         16817.0975
        ],
        [
         "LINO-Delicateses",
         16476.565000000002
        ],
        [
         "Seven Seas Imports",
         16215.324999999997
        ],
        [
         "LILA-Supermercado",
         16076.599999999999
        ],
        [
         "Vaffeljernet",
         15843.925000000001
        ],
        [
         "Wartian Herkku",
         15648.7025
        ],
        [
         "Old World Delicatessen",
         15177.4625
        ],
        [
         "Eastern Connection",
         14761.035
        ],
        [
         "Around the Horn",
         13390.650000000001
        ],
        [
         "Ottilies Käseladen",
         12496.2
        ],
        [
         "Ricardo Adocicados",
         12450.8
        ],
        [
         "Chop-suey Chinese",
         12348.88
        ],
        [
         "Folies gourmandes",
         11666.9
        ],
        [
         "Godos Cocina Típica",
         11446.36
        ],
        [
         "Split Rail Beer & Ale",
         11441.630000000001
        ],
        [
         "Tortuga Restaurante",
         10812.15
        ],
        [
         "Maison Dewey",
         9736.074999999999
        ],
        [
         "Die Wandernde Kuh",
         9588.425
        ],
        [
         "La maison d'Asie",
         9328.199999999999
        ],
        [
         "Victuailles en stock",
         9182.43
        ],
        [
         "Gourmet Lanchonetes",
         8414.135
        ],
        [
         "Magazzini Alimentari Riuniti",
         7176.215
        ],
        [
         "Reggiani Caseifici",
         7048.24
        ],
        [
         "Antonio Moreno Taquería",
         7023.9775
        ],
        [
         "Tradição Hipermercados",
         6850.664
        ],
        [
         "Que Delícia",
         6664.810000000001
        ],
        [
         "Furia Bacalhau e Frutos do Mar",
         6427.4225000000015
        ],
        [
         "Island Trading",
         6146.3
        ],
        [
         "B's Beverages",
         6089.900000000001
        ],
        [
         "Wellington Importadora",
         6068.200000000001
        ],
        [
         "Santé Gourmet",
         5735.15
        ],
        [
         "Princesa Isabel Vinhos",
         5044.9400000000005
        ],
        [
         "Morgenstern Gesundkost",
         5042.200000000001
        ],
        [
         "Toms Spezialitäten",
         4778.139999999999
        ],
        [
         "Alfreds Futterkiste",
         4273.0
        ],
        [
         "Lonesome Pine Restaurant",
         4258.6
        ],
        [
         "Pericles Comidas clásicas",
         4242.2
        ],
        [
         "Bólido Comidas preparadas",
         4232.85
        ],
        [
         "Familia Arquibaldo",
         4107.55
        ],
        [
         "Comércio Mineiro",
         3810.75
        ],
        [
         "Drachenblut Delikatessen",
         3763.2099999999996
        ],
        [
         "Wolski  Zajazd",
         3531.95
        ],
        [
         "Océano Atlántico Ltda.",
         3460.2
        ],
        [
         "The Big Cheese",
         3361.0
        ],
        [
         "Blauer See Delikatessen",
         3239.8
        ],
        [
         "France restauration",
         3172.16
        ],
        [
         "Wilman Kala",
         3161.35
        ],
        [
         "Let's Stop N Shop",
         3076.4725
        ],
        [
         "Hungry Coyote Import Store",
         3063.2
        ],
        [
         "Rancho grande",
         2844.1
        ],
        [
         "Spécialités du monde",
         2423.35
        ],
        [
         "La corne d'abondance",
         1992.0500000000002
        ],
        [
         "The Cracker Box",
         1947.24
        ],
        [
         "Cactus Comidas para llevar",
         1814.8
        ],
        [
         "Consolidated Holdings",
         1719.1
        ],
        [
         "Du monde entier",
         1615.9
        ],
        [
         "Trail's Head Gourmet Provisioners",
         1571.1999999999998
        ],
        [
         "Franchi S.p.A.",
         1545.7
        ],
        [
         "GROSELLA-Restaurante",
         1488.7
        ],
        [
         "Vins et alcools Chevalier",
         1480.0
        ],
        [
         "Romero y tomillo",
         1467.2900000000002
        ],
        [
         "Ana Trujillo Emparedados y helados",
         1402.95
        ],
        [
         "Galería del gastrónomo",
         836.7
        ],
        [
         "North/South",
         649.0
        ],
        [
         "Laughing Bacchus Wine Cellars",
         522.5
        ],
        [
         "Lazy K Kountry Store",
         357.0
        ],
        [
         "Centro comercial Moctezuma",
         100.8
        ]
       ],
       "datasetInfos": [],
       "dbfsResultPath": null,
       "isJsonSchema": true,
       "metadata": {},
       "overflow": false,
       "plotOptions": {
        "customPlotOptions": {},
        "displayType": "table",
        "pivotAggregation": null,
        "pivotColumns": null,
        "xColumns": null,
        "yColumns": null
       },
       "removedWidgets": [],
       "schema": [
        {
         "metadata": "{}",
         "name": "CompanyName",
         "type": "\"string\""
        },
        {
         "metadata": "{}",
         "name": "TotalSpending",
         "type": "\"double\""
        }
       ],
       "type": "table"
      }
     },
     "output_type": "display_data"
    }
   ],
   "source": [
    "%sql\n",
    "-- Which customers are the biggest spenders in terms of total amount spent on orders?\n",
    "-- Note: table in starter file did not include the discount in calculation of total order amounts\n",
    "select c.CompanyName, sum(od.UnitPrice * od.Quantity  * (1 - od.Discount)) as TotalSpending\n",
    "from orders as o\n",
    "inner join customers as c\n",
    "  on o.CustomerID = c.CustomerID\n",
    "inner join order_details as od\n",
    "  on o.OrderID = od.OrderID\n",
    "group by c.CompanyName\n",
    "order by TotalSpending desc;"
   ]
  },
  {
   "cell_type": "code",
   "execution_count": 0,
   "metadata": {
    "application/vnd.databricks.v1+cell": {
     "cellMetadata": {
      "byteLimit": 2048000,
      "implicitDf": true,
      "rowLimit": 10000
     },
     "inputWidgets": {},
     "nuid": "30f484fa-f3be-4ec8-9110-fa8cb332fee0",
     "showTitle": false,
     "title": ""
    }
   },
   "outputs": [
    {
     "output_type": "display_data",
     "data": {
      "text/html": [
       "<style scoped>\n",
       "  .table-result-container {\n",
       "    max-height: 300px;\n",
       "    overflow: auto;\n",
       "  }\n",
       "  table, th, td {\n",
       "    border: 1px solid black;\n",
       "    border-collapse: collapse;\n",
       "  }\n",
       "  th, td {\n",
       "    padding: 5px;\n",
       "  }\n",
       "  th {\n",
       "    text-align: left;\n",
       "  }\n",
       "</style><div class='table-result-container'><table class='table-result'><thead style='background-color: white'><tr><th>sum(((UnitPrice * Quantity) * (1 - Discount)))</th></tr></thead><tbody><tr><td>1265793.0395000004</td></tr></tbody></table></div>"
      ]
     },
     "metadata": {
      "application/vnd.databricks.v1+output": {
       "addedWidgets": {},
       "aggData": [],
       "aggError": "",
       "aggOverflow": false,
       "aggSchema": [],
       "aggSeriesLimitReached": false,
       "aggType": "",
       "arguments": {},
       "columnCustomDisplayInfos": {},
       "data": [
        [
         1265793.0395000004
        ]
       ],
       "datasetInfos": [],
       "dbfsResultPath": null,
       "isJsonSchema": true,
       "metadata": {},
       "overflow": false,
       "plotOptions": {
        "customPlotOptions": {},
        "displayType": "table",
        "pivotAggregation": null,
        "pivotColumns": null,
        "xColumns": null,
        "yColumns": null
       },
       "removedWidgets": [],
       "schema": [
        {
         "metadata": "{\"__autoGeneratedAlias\":\"true\"}",
         "name": "sum(((UnitPrice * Quantity) * (1 - Discount)))",
         "type": "\"double\""
        }
       ],
       "type": "table"
      }
     },
     "output_type": "display_data"
    }
   ],
   "source": [
    "%sql\n",
    "select sum(UnitPrice * Quantity * (1 - Discount)) from order_details;"
   ]
  },
  {
   "cell_type": "code",
   "execution_count": 0,
   "metadata": {
    "application/vnd.databricks.v1+cell": {
     "cellMetadata": {
      "byteLimit": 2048000,
      "implicitDf": true,
      "rowLimit": 10000
     },
     "inputWidgets": {},
     "nuid": "07a198fc-7f87-4855-925f-528e04e0d8bd",
     "showTitle": false,
     "title": ""
    }
   },
   "outputs": [
    {
     "output_type": "display_data",
     "data": {
      "text/html": [
       "<style scoped>\n",
       "  .table-result-container {\n",
       "    max-height: 300px;\n",
       "    overflow: auto;\n",
       "  }\n",
       "  table, th, td {\n",
       "    border: 1px solid black;\n",
       "    border-collapse: collapse;\n",
       "  }\n",
       "  th, td {\n",
       "    padding: 5px;\n",
       "  }\n",
       "  th {\n",
       "    text-align: left;\n",
       "  }\n",
       "</style><div class='table-result-container'><table class='table-result'><thead style='background-color: white'><tr><th>Employee</th><th>Orders</th></tr></thead><tbody><tr><td>Margaret Peacock</td><td>156</td></tr><tr><td>Janet Leverling</td><td>127</td></tr><tr><td>Nancy Davolio</td><td>123</td></tr><tr><td>Laura Callahan</td><td>104</td></tr><tr><td>Andrew Fuller</td><td>96</td></tr><tr><td>Robert King</td><td>72</td></tr><tr><td>Michael Suyama</td><td>67</td></tr><tr><td>Anne Dodsworth</td><td>43</td></tr><tr><td>Steven Buchanan</td><td>42</td></tr></tbody></table></div>"
      ]
     },
     "metadata": {
      "application/vnd.databricks.v1+output": {
       "addedWidgets": {},
       "aggData": [],
       "aggError": "",
       "aggOverflow": false,
       "aggSchema": [],
       "aggSeriesLimitReached": false,
       "aggType": "",
       "arguments": {},
       "columnCustomDisplayInfos": {},
       "data": [
        [
         "Margaret Peacock",
         156
        ],
        [
         "Janet Leverling",
         127
        ],
        [
         "Nancy Davolio",
         123
        ],
        [
         "Laura Callahan",
         104
        ],
        [
         "Andrew Fuller",
         96
        ],
        [
         "Robert King",
         72
        ],
        [
         "Michael Suyama",
         67
        ],
        [
         "Anne Dodsworth",
         43
        ],
        [
         "Steven Buchanan",
         42
        ]
       ],
       "datasetInfos": [],
       "dbfsResultPath": null,
       "isJsonSchema": true,
       "metadata": {},
       "overflow": false,
       "plotOptions": {
        "customPlotOptions": {
         "__migrate__": [
          {
           "key": "status",
           "value": "complete"
          },
          {
           "key": "origDisplayType",
           "value": "plotlyBar"
          }
         ],
         "plotlyBar": [
          {
           "key": "grouped",
           "value": true
          },
          {
           "key": "stacked",
           "value": false
          },
          {
           "key": "100_stacked",
           "value": false
          }
         ]
        },
        "displayType": "table",
        "pivotAggregation": null,
        "pivotColumns": null,
        "xColumns": null,
        "yColumns": null
       },
       "removedWidgets": [],
       "schema": [
        {
         "metadata": "{}",
         "name": "Employee",
         "type": "\"string\""
        },
        {
         "metadata": "{}",
         "name": "Orders",
         "type": "\"long\""
        }
       ],
       "type": "table"
      }
     },
     "output_type": "display_data"
    },
    {
     "output_type": "display_data",
     "data": {
      "text/plain": [
       "Databricks visualization. Run in Databricks to view."
      ]
     },
     "metadata": {
      "application/vnd.databricks.v1.subcommand+json": {
       "bindings": {},
       "collapsed": false,
       "command": "%sql\n-- Which employees have sold the most orders?\nselect concat(e.FirstName, \" \", e.LastName) as Employee, count(*) as Orders\nfrom orders as o\ninner join employees as e\n  on o.EmployeeID = e.EmployeeID\ngroup by Employee\norder by Orders desc;",
       "commandTitle": "Bar chart",
       "commandType": "auto",
       "commandVersion": 0,
       "commentThread": [],
       "commentsVisible": false,
       "contentSha256Hex": null,
       "customPlotOptions": {},
       "datasetPreviewNameToCmdIdMap": {},
       "diffDeletes": [],
       "diffInserts": [],
       "displayType": "plotlyBar",
       "error": null,
       "errorSummary": null,
       "errorTraceType": null,
       "finishTime": 0,
       "globalVars": {},
       "guid": "",
       "height": "auto",
       "hideCommandCode": false,
       "hideCommandResult": false,
       "iPythonMetadata": null,
       "inputWidgets": {},
       "isLockedInExamMode": false,
       "latestUser": "a user",
       "latestUserId": null,
       "listResultMetadata": null,
       "metadata": {},
       "nuid": "af0108e7-69ae-43d9-819e-dea1ab7a7705",
       "origId": 0,
       "parentHierarchy": [],
       "pivotAggregation": null,
       "pivotColumns": null,
       "position": 1.0,
       "resultDbfsErrorMessage": null,
       "resultDbfsStatus": "INLINED_IN_TREE",
       "results": null,
       "showCommandTitle": false,
       "startTime": 0,
       "state": "input",
       "streamStates": {},
       "subcommandOptions": null,
       "submitTime": 0,
       "subtype": "tableResultSubCmd.visualization",
       "tableResultIndex": 0,
       "useConsistentColors": false,
       "version": "CommandV1",
       "width": "660",
       "workflows": [],
       "xColumns": null,
       "yColumns": null
      }
     },
     "output_type": "display_data"
    },
    {
     "output_type": "display_data",
     "data": {
      "text/plain": [
       "Databricks visualization. Run in Databricks to view."
      ]
     },
     "metadata": {
      "application/vnd.databricks.v1.subcommand+json": {
       "bindings": {},
       "collapsed": false,
       "command": "%sql WITH q AS (select concat(e.FirstName, \" \", e.LastName) as Employee,  count(*) as Orders\nfrom orders as o\ninner join employees as e\n  on o.EmployeeID = e.EmployeeID\ngroup by Employee\norder by Orders desc) SELECT `Employee`,SUM(`Orders`) `column_555f0ab8436` FROM q GROUP BY `Employee`",
       "commandTitle": "Visualization 1",
       "commandType": "auto",
       "commandVersion": 0,
       "commentThread": [],
       "commentsVisible": false,
       "contentSha256Hex": null,
       "customPlotOptions": {
        "redashChart": [
         {
          "key": "type",
          "value": "CHART"
         },
         {
          "key": "options",
          "value": {
           "alignYAxesAtZero": true,
           "coefficient": 1,
           "columnConfigurationMap": {
            "x": {
             "column": "Employee",
             "id": "column_555f0ab8435"
            },
            "y": [
             {
              "column": "Orders",
              "id": "column_555f0ab8436",
              "transform": "SUM"
             }
            ]
           },
           "dateTimeFormat": "DD/MM/YYYY HH:mm",
           "direction": {
            "type": "counterclockwise"
           },
           "error_y": {
            "type": "data",
            "visible": true
           },
           "globalSeriesType": "column",
           "isAggregationOn": true,
           "legend": {
            "traceorder": "normal"
           },
           "missingValuesAsZero": true,
           "numberFormat": "0,0[.]00000",
           "percentFormat": "0[.]00%",
           "series": {
            "error_y": {
             "type": "data",
             "visible": true
            },
            "stacking": null
           },
           "seriesOptions": {
            "column_555f0ab8436": {
             "color": "#981717",
             "name": "Orders",
             "yAxis": 0
            }
           },
           "showDataLabels": false,
           "sizemode": "diameter",
           "sortX": false,
           "sortY": true,
           "swappedAxes": true,
           "textFormat": "",
           "useAggregationsUi": true,
           "valuesOptions": {},
           "version": 2,
           "xAxis": {
            "labels": {
             "enabled": true
            },
            "type": "-"
           },
           "yAxis": [
            {
             "type": "-"
            },
            {
             "opposite": true,
             "type": "-"
            }
           ]
          }
         }
        ]
       },
       "datasetPreviewNameToCmdIdMap": {},
       "diffDeletes": [],
       "diffInserts": [],
       "displayType": "redashChart",
       "error": null,
       "errorSummary": null,
       "errorTraceType": null,
       "finishTime": 0,
       "globalVars": {},
       "guid": "",
       "height": "auto",
       "hideCommandCode": false,
       "hideCommandResult": false,
       "iPythonMetadata": null,
       "inputWidgets": {},
       "isLockedInExamMode": false,
       "latestUser": "a user",
       "latestUserId": null,
       "listResultMetadata": null,
       "metadata": {},
       "nuid": "3c31d1ed-eac5-46be-a907-2d76a7f4f825",
       "origId": 0,
       "parentHierarchy": [],
       "pivotAggregation": null,
       "pivotColumns": null,
       "position": 20.5,
       "resultDbfsErrorMessage": null,
       "resultDbfsStatus": "INLINED_IN_TREE",
       "results": null,
       "showCommandTitle": false,
       "startTime": 0,
       "state": "input",
       "streamStates": {},
       "subcommandOptions": {
        "queryPlan": {
         "groups": [
          {
           "column": "Employee",
           "type": "column"
          }
         ],
         "selects": [
          {
           "column": "Employee",
           "type": "column"
          },
          {
           "alias": "column_555f0ab8436",
           "args": [
            {
             "column": "Orders",
             "type": "column"
            }
           ],
           "function": "SUM",
           "type": "function"
          }
         ]
        }
       },
       "submitTime": 0,
       "subtype": "tableResultSubCmd.visualization",
       "tableResultIndex": 0,
       "useConsistentColors": false,
       "version": "CommandV1",
       "width": "auto",
       "workflows": [],
       "xColumns": null,
       "yColumns": null
      }
     },
     "output_type": "display_data"
    }
   ],
   "source": [
    "%sql\n",
    "-- Which employees have sold the most orders?\n",
    "select concat(e.FirstName, \" \", e.LastName) as Employee,  count(*) as Orders\n",
    "from orders as o\n",
    "inner join employees as e\n",
    "  on o.EmployeeID = e.EmployeeID\n",
    "group by Employee\n",
    "order by Orders desc;"
   ]
  },
  {
   "cell_type": "code",
   "execution_count": 0,
   "metadata": {
    "application/vnd.databricks.v1+cell": {
     "cellMetadata": {
      "byteLimit": 2048000,
      "implicitDf": true,
      "rowLimit": 10000
     },
     "inputWidgets": {},
     "nuid": "050544a4-df2c-4108-8c91-f43b4be2f656",
     "showTitle": false,
     "title": ""
    }
   },
   "outputs": [
    {
     "output_type": "display_data",
     "data": {
      "text/html": [
       "<style scoped>\n",
       "  .table-result-container {\n",
       "    max-height: 300px;\n",
       "    overflow: auto;\n",
       "  }\n",
       "  table, th, td {\n",
       "    border: 1px solid black;\n",
       "    border-collapse: collapse;\n",
       "  }\n",
       "  th, td {\n",
       "    padding: 5px;\n",
       "  }\n",
       "  th {\n",
       "    text-align: left;\n",
       "  }\n",
       "</style><div class='table-result-container'><table class='table-result'><thead style='background-color: white'><tr><th>Employee</th><th>Revenue</th></tr></thead><tbody><tr><td>Margaret Peacock</td><td>232890.84600000005</td></tr><tr><td>Janet Leverling</td><td>202812.84299999996</td></tr><tr><td>Nancy Davolio</td><td>192107.60450000007</td></tr><tr><td>Andrew Fuller</td><td>166537.755</td></tr><tr><td>Laura Callahan</td><td>126862.27749999995</td></tr><tr><td>Robert King</td><td>124568.23500000002</td></tr><tr><td>Anne Dodsworth</td><td>77308.06650000002</td></tr><tr><td>Michael Suyama</td><td>73913.12950000001</td></tr><tr><td>Steven Buchanan</td><td>68792.2825</td></tr></tbody></table></div>"
      ]
     },
     "metadata": {
      "application/vnd.databricks.v1+output": {
       "addedWidgets": {},
       "aggData": [],
       "aggError": "",
       "aggOverflow": false,
       "aggSchema": [],
       "aggSeriesLimitReached": false,
       "aggType": "",
       "arguments": {},
       "columnCustomDisplayInfos": {},
       "data": [
        [
         "Margaret Peacock",
         232890.84600000005
        ],
        [
         "Janet Leverling",
         202812.84299999996
        ],
        [
         "Nancy Davolio",
         192107.60450000007
        ],
        [
         "Andrew Fuller",
         166537.755
        ],
        [
         "Laura Callahan",
         126862.27749999995
        ],
        [
         "Robert King",
         124568.23500000002
        ],
        [
         "Anne Dodsworth",
         77308.06650000002
        ],
        [
         "Michael Suyama",
         73913.12950000001
        ],
        [
         "Steven Buchanan",
         68792.2825
        ]
       ],
       "datasetInfos": [],
       "dbfsResultPath": null,
       "isJsonSchema": true,
       "metadata": {},
       "overflow": false,
       "plotOptions": {
        "customPlotOptions": {},
        "displayType": "table",
        "pivotAggregation": null,
        "pivotColumns": null,
        "xColumns": null,
        "yColumns": null
       },
       "removedWidgets": [],
       "schema": [
        {
         "metadata": "{}",
         "name": "Employee",
         "type": "\"string\""
        },
        {
         "metadata": "{}",
         "name": "Revenue",
         "type": "\"double\""
        }
       ],
       "type": "table"
      }
     },
     "output_type": "display_data"
    },
    {
     "output_type": "display_data",
     "data": {
      "text/plain": [
       "Databricks visualization. Run in Databricks to view."
      ]
     },
     "metadata": {
      "application/vnd.databricks.v1.subcommand+json": {
       "bindings": {},
       "collapsed": false,
       "command": "%sql WITH q AS (select concat(e.FirstName, \" \", e.LastName) as Employee, sum(od.UnitPrice * od.Quantity  * (1 - od.Discount)) as Revenue\nfrom orders as o\ninner join employees as e\n  on o.EmployeeID = e.EmployeeID\ninner join order_details as od\n  on o.OrderID = od.OrderID\ngroup by Employee\norder by Revenue desc) SELECT `Employee`,SUM(`Revenue`) `column_555f0ab8403` FROM q GROUP BY `Employee`",
       "commandTitle": "Visualization 1",
       "commandType": "auto",
       "commandVersion": 0,
       "commentThread": [],
       "commentsVisible": false,
       "contentSha256Hex": null,
       "customPlotOptions": {
        "redashChart": [
         {
          "key": "type",
          "value": "CHART"
         },
         {
          "key": "options",
          "value": {
           "alignYAxesAtZero": true,
           "coefficient": 1,
           "columnConfigurationMap": {
            "x": {
             "column": "Employee",
             "id": "column_555f0ab8402"
            },
            "y": [
             {
              "column": "Revenue",
              "id": "column_555f0ab8403",
              "transform": "SUM"
             }
            ]
           },
           "dateTimeFormat": "DD/MM/YYYY HH:mm",
           "direction": {
            "type": "counterclockwise"
           },
           "error_y": {
            "type": "data",
            "visible": true
           },
           "globalSeriesType": "column",
           "isAggregationOn": true,
           "legend": {
            "traceorder": "normal"
           },
           "missingValuesAsZero": true,
           "numberFormat": "0,0",
           "percentFormat": "0[.]00%",
           "series": {
            "error_y": {
             "type": "data",
             "visible": true
            },
            "stacking": null
           },
           "seriesOptions": {
            "column_555f0ab8403": {
             "color": "#049235",
             "name": "Revenue",
             "yAxis": 0
            }
           },
           "showDataLabels": false,
           "sizemode": "diameter",
           "sortX": false,
           "sortY": true,
           "swappedAxes": true,
           "textFormat": "",
           "useAggregationsUi": true,
           "valuesOptions": {},
           "version": 2,
           "xAxis": {
            "labels": {
             "enabled": true
            },
            "type": "-"
           },
           "yAxis": [
            {
             "type": "-"
            },
            {
             "opposite": true,
             "type": "-"
            }
           ]
          }
         }
        ]
       },
       "datasetPreviewNameToCmdIdMap": {},
       "diffDeletes": [],
       "diffInserts": [],
       "displayType": "redashChart",
       "error": null,
       "errorSummary": null,
       "errorTraceType": null,
       "finishTime": 0,
       "globalVars": {},
       "guid": "",
       "height": "auto",
       "hideCommandCode": false,
       "hideCommandResult": false,
       "iPythonMetadata": null,
       "inputWidgets": {},
       "isLockedInExamMode": false,
       "latestUser": "a user",
       "latestUserId": null,
       "listResultMetadata": null,
       "metadata": {},
       "nuid": "97269023-9480-4de3-ab60-002e5bf65ef9",
       "origId": 0,
       "parentHierarchy": [],
       "pivotAggregation": null,
       "pivotColumns": null,
       "position": 23.5,
       "resultDbfsErrorMessage": null,
       "resultDbfsStatus": "INLINED_IN_TREE",
       "results": null,
       "showCommandTitle": false,
       "startTime": 0,
       "state": "input",
       "streamStates": {},
       "subcommandOptions": {
        "queryPlan": {
         "groups": [
          {
           "column": "Employee",
           "type": "column"
          }
         ],
         "selects": [
          {
           "column": "Employee",
           "type": "column"
          },
          {
           "alias": "column_555f0ab8403",
           "args": [
            {
             "column": "Revenue",
             "type": "column"
            }
           ],
           "function": "SUM",
           "type": "function"
          }
         ]
        }
       },
       "submitTime": 0,
       "subtype": "tableResultSubCmd.visualization",
       "tableResultIndex": 0,
       "useConsistentColors": false,
       "version": "CommandV1",
       "width": "auto",
       "workflows": [],
       "xColumns": null,
       "yColumns": null
      }
     },
     "output_type": "display_data"
    }
   ],
   "source": [
    "%sql\n",
    "select concat(e.FirstName, \" \", e.LastName) as Employee, sum(od.UnitPrice * od.Quantity  * (1 - od.Discount)) as Revenue\n",
    "from orders as o\n",
    "inner join employees as e\n",
    "  on o.EmployeeID = e.EmployeeID\n",
    "inner join order_details as od\n",
    "  on o.OrderID = od.OrderID\n",
    "group by Employee\n",
    "order by Revenue desc;"
   ]
  },
  {
   "cell_type": "code",
   "execution_count": 0,
   "metadata": {
    "application/vnd.databricks.v1+cell": {
     "cellMetadata": {
      "byteLimit": 2048000,
      "implicitDf": true,
      "rowLimit": 10000
     },
     "inputWidgets": {},
     "nuid": "d4b1d015-f45b-43ea-9253-c41f119bd1ae",
     "showTitle": false,
     "title": ""
    }
   },
   "outputs": [
    {
     "output_type": "display_data",
     "data": {
      "text/html": [
       "<style scoped>\n",
       "  .table-result-container {\n",
       "    max-height: 300px;\n",
       "    overflow: auto;\n",
       "  }\n",
       "  table, th, td {\n",
       "    border: 1px solid black;\n",
       "    border-collapse: collapse;\n",
       "  }\n",
       "  th, td {\n",
       "    padding: 5px;\n",
       "  }\n",
       "  th {\n",
       "    text-align: left;\n",
       "  }\n",
       "</style><div class='table-result-container'><table class='table-result'><thead style='background-color: white'><tr><th>FirstName</th><th>LastName</th><th>Title</th><th>HireDate</th><th>Region</th></tr></thead><tbody><tr><td>Nancy</td><td>Davolio</td><td>Sales Representative</td><td>1992-05-01T00:00:00.000+0000</td><td>WA</td></tr><tr><td>Andrew</td><td>Fuller</td><td>Vice President, Sales</td><td>1992-08-14T00:00:00.000+0000</td><td>WA</td></tr><tr><td>Janet</td><td>Leverling</td><td>Sales Representative</td><td>1992-04-01T00:00:00.000+0000</td><td>WA</td></tr><tr><td>Margaret</td><td>Peacock</td><td>Sales Representative</td><td>1993-05-03T00:00:00.000+0000</td><td>WA</td></tr><tr><td>Steven</td><td>Buchanan</td><td>Sales Manager</td><td>1993-10-17T00:00:00.000+0000</td><td>null</td></tr><tr><td>Michael</td><td>Suyama</td><td>Sales Representative</td><td>1993-10-17T00:00:00.000+0000</td><td>null</td></tr><tr><td>Robert</td><td>King</td><td>Sales Representative</td><td>1994-01-02T00:00:00.000+0000</td><td>null</td></tr><tr><td>Laura</td><td>Callahan</td><td>Inside Sales Coordinator</td><td>1994-03-05T00:00:00.000+0000</td><td>WA</td></tr><tr><td>Anne</td><td>Dodsworth</td><td>Sales Representative</td><td>1994-11-15T00:00:00.000+0000</td><td>null</td></tr></tbody></table></div>"
      ]
     },
     "metadata": {
      "application/vnd.databricks.v1+output": {
       "addedWidgets": {},
       "aggData": [],
       "aggError": "",
       "aggOverflow": false,
       "aggSchema": [],
       "aggSeriesLimitReached": false,
       "aggType": "",
       "arguments": {},
       "columnCustomDisplayInfos": {},
       "data": [
        [
         "Nancy",
         "Davolio",
         "Sales Representative",
         "1992-05-01T00:00:00.000+0000",
         "WA"
        ],
        [
         "Andrew",
         "Fuller",
         "Vice President, Sales",
         "1992-08-14T00:00:00.000+0000",
         "WA"
        ],
        [
         "Janet",
         "Leverling",
         "Sales Representative",
         "1992-04-01T00:00:00.000+0000",
         "WA"
        ],
        [
         "Margaret",
         "Peacock",
         "Sales Representative",
         "1993-05-03T00:00:00.000+0000",
         "WA"
        ],
        [
         "Steven",
         "Buchanan",
         "Sales Manager",
         "1993-10-17T00:00:00.000+0000",
         null
        ],
        [
         "Michael",
         "Suyama",
         "Sales Representative",
         "1993-10-17T00:00:00.000+0000",
         null
        ],
        [
         "Robert",
         "King",
         "Sales Representative",
         "1994-01-02T00:00:00.000+0000",
         null
        ],
        [
         "Laura",
         "Callahan",
         "Inside Sales Coordinator",
         "1994-03-05T00:00:00.000+0000",
         "WA"
        ],
        [
         "Anne",
         "Dodsworth",
         "Sales Representative",
         "1994-11-15T00:00:00.000+0000",
         null
        ]
       ],
       "datasetInfos": [],
       "dbfsResultPath": null,
       "isJsonSchema": true,
       "metadata": {},
       "overflow": false,
       "plotOptions": {
        "customPlotOptions": {},
        "displayType": "table",
        "pivotAggregation": null,
        "pivotColumns": null,
        "xColumns": null,
        "yColumns": null
       },
       "removedWidgets": [],
       "schema": [
        {
         "metadata": "{}",
         "name": "FirstName",
         "type": "\"string\""
        },
        {
         "metadata": "{}",
         "name": "LastName",
         "type": "\"string\""
        },
        {
         "metadata": "{}",
         "name": "Title",
         "type": "\"string\""
        },
        {
         "metadata": "{}",
         "name": "HireDate",
         "type": "\"timestamp\""
        },
        {
         "metadata": "{}",
         "name": "Region",
         "type": "\"string\""
        }
       ],
       "type": "table"
      }
     },
     "output_type": "display_data"
    }
   ],
   "source": [
    "%sql\n",
    "-- Get information on employees\n",
    "select FirstName, LastName, Title, HireDate, Region from employees"
   ]
  },
  {
   "cell_type": "code",
   "execution_count": 0,
   "metadata": {
    "application/vnd.databricks.v1+cell": {
     "cellMetadata": {
      "byteLimit": 2048000,
      "implicitDf": true,
      "rowLimit": 10000
     },
     "inputWidgets": {},
     "nuid": "c4cab258-3b14-4472-ac86-87b6c8f4e881",
     "showTitle": false,
     "title": ""
    }
   },
   "outputs": [
    {
     "output_type": "display_data",
     "data": {
      "text/html": [
       "<style scoped>\n",
       "  .table-result-container {\n",
       "    max-height: 300px;\n",
       "    overflow: auto;\n",
       "  }\n",
       "  table, th, td {\n",
       "    border: 1px solid black;\n",
       "    border-collapse: collapse;\n",
       "  }\n",
       "  th, td {\n",
       "    padding: 5px;\n",
       "  }\n",
       "  th {\n",
       "    text-align: left;\n",
       "  }\n",
       "</style><div class='table-result-container'><table class='table-result'><thead style='background-color: white'><tr><th>CustomerID</th><th>CustomerID</th></tr></thead><tbody><tr><td>FISSA</td><td>null</td></tr><tr><td>PARIS</td><td>null</td></tr></tbody></table></div>"
      ]
     },
     "metadata": {
      "application/vnd.databricks.v1+output": {
       "addedWidgets": {},
       "aggData": [],
       "aggError": "",
       "aggOverflow": false,
       "aggSchema": [],
       "aggSeriesLimitReached": false,
       "aggType": "",
       "arguments": {},
       "columnCustomDisplayInfos": {},
       "data": [
        [
         "FISSA",
         null
        ],
        [
         "PARIS",
         null
        ]
       ],
       "datasetInfos": [],
       "dbfsResultPath": null,
       "isJsonSchema": true,
       "metadata": {},
       "overflow": false,
       "plotOptions": {
        "customPlotOptions": {},
        "displayType": "table",
        "pivotAggregation": null,
        "pivotColumns": null,
        "xColumns": null,
        "yColumns": null
       },
       "removedWidgets": [],
       "schema": [
        {
         "metadata": "{}",
         "name": "CustomerID",
         "type": "\"string\""
        },
        {
         "metadata": "{}",
         "name": "CustomerID",
         "type": "\"string\""
        }
       ],
       "type": "table"
      }
     },
     "output_type": "display_data"
    }
   ],
   "source": [
    "%sql\n",
    "-- List customer IDs of customers who have never placed an order.\n",
    "select c.CustomerID, o.CustomerID\n",
    "from customers as c\n",
    "inner join orders as o\n",
    " on c.CustomerID = o.CustomerID\n",
    "where o.CustomerID is null;"
   ]
  },
  {
   "cell_type": "code",
   "execution_count": 0,
   "metadata": {
    "application/vnd.databricks.v1+cell": {
     "cellMetadata": {
      "byteLimit": 2048000,
      "implicitDf": true,
      "rowLimit": 10000
     },
     "inputWidgets": {},
     "nuid": "83e4f400-28b8-4e51-8701-b9974e4eec70",
     "showTitle": false,
     "title": ""
    }
   },
   "outputs": [
    {
     "output_type": "display_data",
     "data": {
      "text/html": [
       "<style scoped>\n",
       "  .table-result-container {\n",
       "    max-height: 300px;\n",
       "    overflow: auto;\n",
       "  }\n",
       "  table, th, td {\n",
       "    border: 1px solid black;\n",
       "    border-collapse: collapse;\n",
       "  }\n",
       "  th, td {\n",
       "    padding: 5px;\n",
       "  }\n",
       "  th {\n",
       "    text-align: left;\n",
       "  }\n",
       "</style><div class='table-result-container'><table class='table-result'><thead style='background-color: white'><tr><th>OrderID</th><th>TotalOrders</th></tr></thead><tbody><tr><td>11077</td><td>25</td></tr><tr><td>10979</td><td>6</td></tr><tr><td>10847</td><td>6</td></tr><tr><td>10657</td><td>6</td></tr><tr><td>10514</td><td>5</td></tr><tr><td>10294</td><td>5</td></tr><tr><td>10962</td><td>5</td></tr><tr><td>10558</td><td>5</td></tr><tr><td>10845</td><td>5</td></tr><tr><td>10458</td><td>5</td></tr><tr><td>10607</td><td>5</td></tr><tr><td>10553</td><td>5</td></tr><tr><td>10393</td><td>5</td></tr><tr><td>10861</td><td>5</td></tr><tr><td>10612</td><td>5</td></tr></tbody></table></div>"
      ]
     },
     "metadata": {
      "application/vnd.databricks.v1+output": {
       "addedWidgets": {},
       "aggData": [],
       "aggError": "",
       "aggOverflow": false,
       "aggSchema": [],
       "aggSeriesLimitReached": false,
       "aggType": "",
       "arguments": {},
       "columnCustomDisplayInfos": {},
       "data": [
        [
         11077,
         25
        ],
        [
         10979,
         6
        ],
        [
         10847,
         6
        ],
        [
         10657,
         6
        ],
        [
         10514,
         5
        ],
        [
         10294,
         5
        ],
        [
         10962,
         5
        ],
        [
         10558,
         5
        ],
        [
         10845,
         5
        ],
        [
         10458,
         5
        ],
        [
         10607,
         5
        ],
        [
         10553,
         5
        ],
        [
         10393,
         5
        ],
        [
         10861,
         5
        ],
        [
         10612,
         5
        ]
       ],
       "datasetInfos": [],
       "dbfsResultPath": null,
       "isJsonSchema": true,
       "metadata": {},
       "overflow": false,
       "plotOptions": {
        "customPlotOptions": {},
        "displayType": "table",
        "pivotAggregation": null,
        "pivotColumns": null,
        "xColumns": null,
        "yColumns": null
       },
       "removedWidgets": [],
       "schema": [
        {
         "metadata": "{}",
         "name": "OrderID",
         "type": "\"integer\""
        },
        {
         "metadata": "{}",
         "name": "TotalOrders",
         "type": "\"long\""
        }
       ],
       "type": "table"
      }
     },
     "output_type": "display_data"
    }
   ],
   "source": [
    "%sql\n",
    "-- Show the top 15 order IDs\n",
    "select OrderID, count(*) as TotalOrders\n",
    "from order_details\n",
    "group by OrderID\n",
    "order by TotalOrders desc\n",
    "limit 15;"
   ]
  },
  {
   "cell_type": "code",
   "execution_count": 0,
   "metadata": {
    "application/vnd.databricks.v1+cell": {
     "cellMetadata": {
      "byteLimit": 2048000,
      "implicitDf": true,
      "rowLimit": 10000
     },
     "inputWidgets": {},
     "nuid": "bee622b9-b3fa-4413-8047-1f9e16c62f69",
     "showTitle": false,
     "title": ""
    }
   },
   "outputs": [
    {
     "output_type": "display_data",
     "data": {
      "text/html": [
       "<style scoped>\n",
       "  .table-result-container {\n",
       "    max-height: 300px;\n",
       "    overflow: auto;\n",
       "  }\n",
       "  table, th, td {\n",
       "    border: 1px solid black;\n",
       "    border-collapse: collapse;\n",
       "  }\n",
       "  th, td {\n",
       "    padding: 5px;\n",
       "  }\n",
       "  th {\n",
       "    text-align: left;\n",
       "  }\n",
       "</style><div class='table-result-container'><table class='table-result'><thead style='background-color: white'><tr><th>ProductName</th><th>Company</th><th>MaxDiscount</th><th>AverageDiscount</th><th>PercentDiscount</th></tr></thead><tbody><tr><td>Mishi Kobe Niku</td><td>Tokyo Traders</td><td>0.25</td><td>0.1</td><td>0.1813186813186813</td></tr><tr><td>Sirop d'érable</td><td>Forêts d'érables</td><td>0.25</td><td>0.07083333333333333</td><td>0.12690707350901528</td></tr><tr><td>Chang</td><td>Exotic Liquids</td><td>0.25</td><td>0.10227272727272728</td><td>0.11871416871416872</td></tr><tr><td>Gravad lax</td><td>Svensk Sjöföda AB</td><td>0.2</td><td>0.05000000000000001</td><td>0.11774744027303753</td></tr><tr><td>Escargots de Bourgogne</td><td>Escargots Nouveaux</td><td>0.25</td><td>0.1</td><td>0.11749502982107357</td></tr><tr><td>Chocolade</td><td>Zaanse Snoepfabriek</td><td>0.15</td><td>0.10833333333333334</td><td>0.1128099173553719</td></tr><tr><td>Pâté chinois</td><td>Ma Maison</td><td>0.25</td><td>0.0772727272727273</td><td>0.1068880688806888</td></tr><tr><td>Chai</td><td>Exotic Liquids</td><td>0.25</td><td>0.07763157894736843</td><td>0.10432425617750882</td></tr><tr><td>Gudbrandsdalsost</td><td>Norske Meierier</td><td>0.25</td><td>0.07419354838709677</td><td>0.09728969194312799</td></tr><tr><td>Zaanse koeken</td><td>Zaanse Snoepfabriek</td><td>0.25</td><td>0.0738095238095238</td><td>0.09189189189189188</td></tr><tr><td>Nord-Ost Matjeshering</td><td>Nord-Ost-Fisch Handelsgesellschaft mbH</td><td>0.25</td><td>0.08125</td><td>0.09145807868950982</td></tr><tr><td>Chef Anton's Cajun Seasoning</td><td>New Orleans Cajun Delights</td><td>0.25</td><td>0.075</td><td>0.09091970121381887</td></tr><tr><td>Carnarvon Tigers</td><td>Pavlova, Ltd.</td><td>0.25</td><td>0.07962962962962965</td><td>0.08802266510355608</td></tr><tr><td>NuNuCa Nuß-Nougat-Creme</td><td>Heli Süßwaren GmbH & Co. KG</td><td>0.25</td><td>0.08611111111111112</td><td>0.0856945404284727</td></tr><tr><td>Rogede sild</td><td>Lyngbysild</td><td>0.2</td><td>0.075</td><td>0.08486973947895793</td></tr><tr><td>Thüringer Rostbratwurst</td><td>Plutzer Lebensmittelgroßmärkte AG</td><td>0.25</td><td>0.06406250000000001</td><td>0.08397572729220709</td></tr><tr><td>Mascarpone Fabioli</td><td>Formaggi Fortini s.r.l.</td><td>0.2</td><td>0.07333333333333333</td><td>0.083635729239358</td></tr><tr><td>Pavlova</td><td>Pavlova, Ltd.</td><td>0.25</td><td>0.0669767441860465</td><td>0.08172980656654961</td></tr><tr><td>Singaporean Hokkien Fried Mee</td><td>Leka Trading</td><td>0.25</td><td>0.055</td><td>0.08115811581158115</td></tr><tr><td>Alice Mutton</td><td>Pavlova, Ltd.</td><td>0.25</td><td>0.06216216216216216</td><td>0.07845680369311937</td></tr><tr><td>Gumbär Gummibärchen</td><td>Heli Süßwaren GmbH & Co. KG</td><td>0.25</td><td>0.0515625</td><td>0.07828016382708997</td></tr><tr><td>Chef Anton's Gumbo Mix</td><td>New Orleans Cajun Delights</td><td>0.25</td><td>0.075</td><td>0.07825172595088906</td></tr><tr><td>Gorgonzola Telino</td><td>Formaggi Fortini s.r.l.</td><td>0.25</td><td>0.06274509803921569</td><td>0.0773921780800742</td></tr><tr><td>Tourtière</td><td>Ma Maison</td><td>0.25</td><td>0.07222222222222223</td><td>0.07669644600663932</td></tr><tr><td>Inlagd Sill</td><td>Svensk Sjöföda AB</td><td>0.25</td><td>0.07903225806451614</td><td>0.07454925529135094</td></tr><tr><td>Tofu</td><td>Mayumi's</td><td>0.25</td><td>0.06727272727272728</td><td>0.07403017241379312</td></tr><tr><td>Queso Cabrales</td><td>Cooperativa de Quesos 'Las Cabras'</td><td>0.25</td><td>0.05657894736842105</td><td>0.07194864048338369</td></tr><tr><td>Northwoods Cranberry Sauce</td><td>Grandma Kelly's Homestead</td><td>0.25</td><td>0.06538461538461539</td><td>0.07180232558139535</td></tr><tr><td>Outback Lager</td><td>Pavlova, Ltd.</td><td>0.25</td><td>0.06282051282051282</td><td>0.06967834728033473</td></tr><tr><td>Scottish Longbreads</td><td>Specialty Biscuits, Ltd.</td><td>0.25</td><td>0.058823529411764705</td><td>0.06926568758344459</td></tr><tr><td>Camembert Pierrot</td><td>Gai pâturage</td><td>0.25</td><td>0.06392156862745098</td><td>0.06881676808654498</td></tr><tr><td>Raclette Courdavault</td><td>Gai pâturage</td><td>0.25</td><td>0.04722222222222222</td><td>0.06737312572087659</td></tr><tr><td>Manjimup Dried Apples</td><td>G'day, Mate</td><td>0.25</td><td>0.05128205128205127</td><td>0.06532812129827056</td></tr><tr><td>Chartreuse verte</td><td>Aux joyeux ecclésiastiques</td><td>0.25</td><td>0.06666666666666667</td><td>0.06511086777990693</td></tr><tr><td>Laughing Lumberjack Lager</td><td>Bigfoot Breweries</td><td>0.25</td><td>0.06</td><td>0.06448087431693988</td></tr><tr><td>Flotemysost</td><td>Norske Meierier</td><td>0.25</td><td>0.042857142857142864</td><td>0.06349124613800206</td></tr><tr><td>Ipoh Coffee</td><td>Leka Trading</td><td>0.25</td><td>0.05</td><td>0.06190388848129127</td></tr><tr><td>Lakkalikööri</td><td>Karkki Oy</td><td>0.25</td><td>0.05256410256410256</td><td>0.061543408360128615</td></tr><tr><td>Steeleye Stout</td><td>Bigfoot Breweries</td><td>0.25</td><td>0.04722222222222222</td><td>0.06141654284299157</td></tr><tr><td>Boston Crab Meat</td><td>New England Seafood Cannery</td><td>0.25</td><td>0.05121951219512196</td><td>0.05972553981195173</td></tr><tr><td>Guaraná Fantástica</td><td>Refrescos Americanas LTDA</td><td>0.25</td><td>0.05686274509803921</td><td>0.058176514866390666</td></tr><tr><td>Gula Malacca</td><td>Leka Trading</td><td>0.25</td><td>0.060416666666666674</td><td>0.057795841964234804</td></tr><tr><td>Ikura</td><td>Tokyo Traders</td><td>0.25</td><td>0.04393939393939394</td><td>0.05749089890786894</td></tr><tr><td>Côte de Blaye</td><td>Aux joyeux ecclésiastiques</td><td>0.25</td><td>0.04583333333333334</td><td>0.05725579761068164</td></tr><tr><td>Vegie-spread</td><td>Pavlova, Ltd.</td><td>0.25</td><td>0.0411764705882353</td><td>0.05623802715821951</td></tr><tr><td>Gnocchi di nonna Alice</td><td>Pasta Buttini s.r.l.</td><td>0.25</td><td>0.062</td><td>0.05602998147212397</td></tr><tr><td>Sir Rodney's Scones</td><td>Specialty Biscuits, Ltd.</td><td>0.25</td><td>0.056410256410256404</td><td>0.05520963055209631</td></tr><tr><td>Rhönbräu Klosterbier</td><td>Plutzer Lebensmittelgroßmärkte AG</td><td>0.25</td><td>0.05217391304347827</td><td>0.05468554022576598</td></tr><tr><td>Original Frankfurter grüne Soße</td><td>Plutzer Lebensmittelgroßmärkte AG</td><td>0.25</td><td>0.05131578947368421</td><td>0.05300671140939598</td></tr><tr><td>Konbu</td><td>Mayumi's</td><td>0.25</td><td>0.0425</td><td>0.05233837689133424</td></tr><tr><td>Tarte au sucre</td><td>Forêts d'érables</td><td>0.25</td><td>0.05416666666666667</td><td>0.05203771381093725</td></tr><tr><td>Longlife Tofu</td><td>Tokyo Traders</td><td>0.25</td><td>0.05</td><td>0.052026500389711614</td></tr><tr><td>Louisiana Fiery Hot Pepper Sauce</td><td>New Orleans Cajun Delights</td><td>0.2</td><td>0.04843750000000001</td><td>0.05046279181214486</td></tr><tr><td>Tunnbröd</td><td>PB Knäckebröd AB</td><td>0.25</td><td>0.037500000000000006</td><td>0.049274823354406846</td></tr><tr><td>Sasquatch Ale</td><td>Bigfoot Breweries</td><td>0.25</td><td>0.05000000000000001</td><td>0.049056603773584916</td></tr><tr><td>Röd Kaviar</td><td>Svensk Sjöföda AB</td><td>0.2</td><td>0.047142857142857146</td><td>0.048285714285714286</td></tr><tr><td>Teatime Chocolate Biscuits</td><td>Specialty Biscuits, Ltd.</td><td>0.25</td><td>0.0554054054054054</td><td>0.048198717428362674</td></tr><tr><td>Queso Manchego La Pastora</td><td>Cooperativa de Quesos 'Las Cabras'</td><td>0.25</td><td>0.0642857142857143</td><td>0.047341996455995274</td></tr><tr><td>Jack's New England Clam Chowder</td><td>New England Seafood Cannery</td><td>0.25</td><td>0.04042553191489363</td><td>0.04591672986667544</td></tr><tr><td>Wimmers gute Semmelknödel</td><td>Plutzer Lebensmittelgroßmärkte AG</td><td>0.25</td><td>0.04100000000000001</td><td>0.04567919075144509</td></tr><tr><td>Sir Rodney's Marmalade</td><td>Specialty Biscuits, Ltd.</td><td>0.25</td><td>0.046250000000000006</td><td>0.045373543522960934</td></tr><tr><td>Filo Mix</td><td>G'day, Mate</td><td>0.25</td><td>0.04137931034482759</td><td>0.04458005792304509</td></tr><tr><td>Perth Pasties</td><td>G'day, Mate</td><td>0.2</td><td>0.03833333333333334</td><td>0.04351563444319439</td></tr><tr><td>Rössle Sauerkraut</td><td>Plutzer Lebensmittelgroßmärkte AG</td><td>0.25</td><td>0.03787878787878788</td><td>0.04351140491930201</td></tr><tr><td>Spegesild</td><td>Lyngbysild</td><td>0.25</td><td>0.0637037037037037</td><td>0.04248046875000001</td></tr><tr><td>Louisiana Hot Spiced Okra</td><td>New Orleans Cajun Delights</td><td>0.15</td><td>0.03125</td><td>0.03864734299516908</td></tr><tr><td>Geitost</td><td>Norske Meierier</td><td>0.25</td><td>0.04375</td><td>0.03815290341406478</td></tr><tr><td>Mozzarella di Giovanni</td><td>Formaggi Fortini s.r.l.</td><td>0.25</td><td>0.02368421052631579</td><td>0.0325838811444201</td></tr><tr><td>Grandma's Boysenberry Spread</td><td>Grandma Kelly's Homestead</td><td>0.25</td><td>0.030833333333333334</td><td>0.02831858407079646</td></tr><tr><td>Maxilaku</td><td>Karkki Oy</td><td>0.15</td><td>0.030952380952380953</td><td>0.02688421052631579</td></tr><tr><td>Valkoinen suklaa</td><td>Karkki Oy</td><td>0.1</td><td>0.025</td><td>0.02060185185185185</td></tr><tr><td>Ravioli Angelo</td><td>Pasta Buttini s.r.l.</td><td>0.25</td><td>0.028260869565217398</td><td>0.018731268731268732</td></tr><tr><td>Uncle Bob's Organic Dried Pears</td><td>Grandma Kelly's Homestead</td><td>0.2</td><td>0.027586206896551727</td><td>0.018683226495726495</td></tr><tr><td>Genen Shouyu</td><td>Mayumi's</td><td>0.05</td><td>0.016666666666666666</td><td>0.01581196581196581</td></tr><tr><td>Gustaf's Knäckebröd</td><td>PB Knäckebröd AB</td><td>0.25</td><td>0.02142857142857143</td><td>0.015214866434378629</td></tr><tr><td>Aniseed Syrup</td><td>Exotic Liquids</td><td>0.1</td><td>0.016666666666666666</td><td>0.011688311688311689</td></tr><tr><td>Schoggi Schokolade</td><td>Heli Süßwaren GmbH & Co. KG</td><td>0.25</td><td>0.027777777777777776</td><td>0.008641630830843974</td></tr></tbody></table></div>"
      ]
     },
     "metadata": {
      "application/vnd.databricks.v1+output": {
       "addedWidgets": {},
       "aggData": [],
       "aggError": "",
       "aggOverflow": false,
       "aggSchema": [],
       "aggSeriesLimitReached": false,
       "aggType": "",
       "arguments": {},
       "columnCustomDisplayInfos": {},
       "data": [
        [
         "Mishi Kobe Niku",
         "Tokyo Traders",
         0.25,
         0.1,
         0.1813186813186813
        ],
        [
         "Sirop d'érable",
         "Forêts d'érables",
         0.25,
         0.07083333333333333,
         0.12690707350901528
        ],
        [
         "Chang",
         "Exotic Liquids",
         0.25,
         0.10227272727272728,
         0.11871416871416872
        ],
        [
         "Gravad lax",
         "Svensk Sjöföda AB",
         0.2,
         0.05000000000000001,
         0.11774744027303753
        ],
        [
         "Escargots de Bourgogne",
         "Escargots Nouveaux",
         0.25,
         0.1,
         0.11749502982107357
        ],
        [
         "Chocolade",
         "Zaanse Snoepfabriek",
         0.15,
         0.10833333333333334,
         0.1128099173553719
        ],
        [
         "Pâté chinois",
         "Ma Maison",
         0.25,
         0.0772727272727273,
         0.1068880688806888
        ],
        [
         "Chai",
         "Exotic Liquids",
         0.25,
         0.07763157894736843,
         0.10432425617750882
        ],
        [
         "Gudbrandsdalsost",
         "Norske Meierier",
         0.25,
         0.07419354838709677,
         0.09728969194312799
        ],
        [
         "Zaanse koeken",
         "Zaanse Snoepfabriek",
         0.25,
         0.0738095238095238,
         0.09189189189189188
        ],
        [
         "Nord-Ost Matjeshering",
         "Nord-Ost-Fisch Handelsgesellschaft mbH",
         0.25,
         0.08125,
         0.09145807868950982
        ],
        [
         "Chef Anton's Cajun Seasoning",
         "New Orleans Cajun Delights",
         0.25,
         0.075,
         0.09091970121381887
        ],
        [
         "Carnarvon Tigers",
         "Pavlova, Ltd.",
         0.25,
         0.07962962962962965,
         0.08802266510355608
        ],
        [
         "NuNuCa Nuß-Nougat-Creme",
         "Heli Süßwaren GmbH & Co. KG",
         0.25,
         0.08611111111111112,
         0.0856945404284727
        ],
        [
         "Rogede sild",
         "Lyngbysild",
         0.2,
         0.075,
         0.08486973947895793
        ],
        [
         "Thüringer Rostbratwurst",
         "Plutzer Lebensmittelgroßmärkte AG",
         0.25,
         0.06406250000000001,
         0.08397572729220709
        ],
        [
         "Mascarpone Fabioli",
         "Formaggi Fortini s.r.l.",
         0.2,
         0.07333333333333333,
         0.083635729239358
        ],
        [
         "Pavlova",
         "Pavlova, Ltd.",
         0.25,
         0.0669767441860465,
         0.08172980656654961
        ],
        [
         "Singaporean Hokkien Fried Mee",
         "Leka Trading",
         0.25,
         0.055,
         0.08115811581158115
        ],
        [
         "Alice Mutton",
         "Pavlova, Ltd.",
         0.25,
         0.06216216216216216,
         0.07845680369311937
        ],
        [
         "Gumbär Gummibärchen",
         "Heli Süßwaren GmbH & Co. KG",
         0.25,
         0.0515625,
         0.07828016382708997
        ],
        [
         "Chef Anton's Gumbo Mix",
         "New Orleans Cajun Delights",
         0.25,
         0.075,
         0.07825172595088906
        ],
        [
         "Gorgonzola Telino",
         "Formaggi Fortini s.r.l.",
         0.25,
         0.06274509803921569,
         0.0773921780800742
        ],
        [
         "Tourtière",
         "Ma Maison",
         0.25,
         0.07222222222222223,
         0.07669644600663932
        ],
        [
         "Inlagd Sill",
         "Svensk Sjöföda AB",
         0.25,
         0.07903225806451614,
         0.07454925529135094
        ],
        [
         "Tofu",
         "Mayumi's",
         0.25,
         0.06727272727272728,
         0.07403017241379312
        ],
        [
         "Queso Cabrales",
         "Cooperativa de Quesos 'Las Cabras'",
         0.25,
         0.05657894736842105,
         0.07194864048338369
        ],
        [
         "Northwoods Cranberry Sauce",
         "Grandma Kelly's Homestead",
         0.25,
         0.06538461538461539,
         0.07180232558139535
        ],
        [
         "Outback Lager",
         "Pavlova, Ltd.",
         0.25,
         0.06282051282051282,
         0.06967834728033473
        ],
        [
         "Scottish Longbreads",
         "Specialty Biscuits, Ltd.",
         0.25,
         0.058823529411764705,
         0.06926568758344459
        ],
        [
         "Camembert Pierrot",
         "Gai pâturage",
         0.25,
         0.06392156862745098,
         0.06881676808654498
        ],
        [
         "Raclette Courdavault",
         "Gai pâturage",
         0.25,
         0.04722222222222222,
         0.06737312572087659
        ],
        [
         "Manjimup Dried Apples",
         "G'day, Mate",
         0.25,
         0.05128205128205127,
         0.06532812129827056
        ],
        [
         "Chartreuse verte",
         "Aux joyeux ecclésiastiques",
         0.25,
         0.06666666666666667,
         0.06511086777990693
        ],
        [
         "Laughing Lumberjack Lager",
         "Bigfoot Breweries",
         0.25,
         0.06,
         0.06448087431693988
        ],
        [
         "Flotemysost",
         "Norske Meierier",
         0.25,
         0.042857142857142864,
         0.06349124613800206
        ],
        [
         "Ipoh Coffee",
         "Leka Trading",
         0.25,
         0.05,
         0.06190388848129127
        ],
        [
         "Lakkalikööri",
         "Karkki Oy",
         0.25,
         0.05256410256410256,
         0.061543408360128615
        ],
        [
         "Steeleye Stout",
         "Bigfoot Breweries",
         0.25,
         0.04722222222222222,
         0.06141654284299157
        ],
        [
         "Boston Crab Meat",
         "New England Seafood Cannery",
         0.25,
         0.05121951219512196,
         0.05972553981195173
        ],
        [
         "Guaraná Fantástica",
         "Refrescos Americanas LTDA",
         0.25,
         0.05686274509803921,
         0.058176514866390666
        ],
        [
         "Gula Malacca",
         "Leka Trading",
         0.25,
         0.060416666666666674,
         0.057795841964234804
        ],
        [
         "Ikura",
         "Tokyo Traders",
         0.25,
         0.04393939393939394,
         0.05749089890786894
        ],
        [
         "Côte de Blaye",
         "Aux joyeux ecclésiastiques",
         0.25,
         0.04583333333333334,
         0.05725579761068164
        ],
        [
         "Vegie-spread",
         "Pavlova, Ltd.",
         0.25,
         0.0411764705882353,
         0.05623802715821951
        ],
        [
         "Gnocchi di nonna Alice",
         "Pasta Buttini s.r.l.",
         0.25,
         0.062,
         0.05602998147212397
        ],
        [
         "Sir Rodney's Scones",
         "Specialty Biscuits, Ltd.",
         0.25,
         0.056410256410256404,
         0.05520963055209631
        ],
        [
         "Rhönbräu Klosterbier",
         "Plutzer Lebensmittelgroßmärkte AG",
         0.25,
         0.05217391304347827,
         0.05468554022576598
        ],
        [
         "Original Frankfurter grüne Soße",
         "Plutzer Lebensmittelgroßmärkte AG",
         0.25,
         0.05131578947368421,
         0.05300671140939598
        ],
        [
         "Konbu",
         "Mayumi's",
         0.25,
         0.0425,
         0.05233837689133424
        ],
        [
         "Tarte au sucre",
         "Forêts d'érables",
         0.25,
         0.05416666666666667,
         0.05203771381093725
        ],
        [
         "Longlife Tofu",
         "Tokyo Traders",
         0.25,
         0.05,
         0.052026500389711614
        ],
        [
         "Louisiana Fiery Hot Pepper Sauce",
         "New Orleans Cajun Delights",
         0.2,
         0.04843750000000001,
         0.05046279181214486
        ],
        [
         "Tunnbröd",
         "PB Knäckebröd AB",
         0.25,
         0.037500000000000006,
         0.049274823354406846
        ],
        [
         "Sasquatch Ale",
         "Bigfoot Breweries",
         0.25,
         0.05000000000000001,
         0.049056603773584916
        ],
        [
         "Röd Kaviar",
         "Svensk Sjöföda AB",
         0.2,
         0.047142857142857146,
         0.048285714285714286
        ],
        [
         "Teatime Chocolate Biscuits",
         "Specialty Biscuits, Ltd.",
         0.25,
         0.0554054054054054,
         0.048198717428362674
        ],
        [
         "Queso Manchego La Pastora",
         "Cooperativa de Quesos 'Las Cabras'",
         0.25,
         0.0642857142857143,
         0.047341996455995274
        ],
        [
         "Jack's New England Clam Chowder",
         "New England Seafood Cannery",
         0.25,
         0.04042553191489363,
         0.04591672986667544
        ],
        [
         "Wimmers gute Semmelknödel",
         "Plutzer Lebensmittelgroßmärkte AG",
         0.25,
         0.04100000000000001,
         0.04567919075144509
        ],
        [
         "Sir Rodney's Marmalade",
         "Specialty Biscuits, Ltd.",
         0.25,
         0.046250000000000006,
         0.045373543522960934
        ],
        [
         "Filo Mix",
         "G'day, Mate",
         0.25,
         0.04137931034482759,
         0.04458005792304509
        ],
        [
         "Perth Pasties",
         "G'day, Mate",
         0.2,
         0.03833333333333334,
         0.04351563444319439
        ],
        [
         "Rössle Sauerkraut",
         "Plutzer Lebensmittelgroßmärkte AG",
         0.25,
         0.03787878787878788,
         0.04351140491930201
        ],
        [
         "Spegesild",
         "Lyngbysild",
         0.25,
         0.0637037037037037,
         0.04248046875000001
        ],
        [
         "Louisiana Hot Spiced Okra",
         "New Orleans Cajun Delights",
         0.15,
         0.03125,
         0.03864734299516908
        ],
        [
         "Geitost",
         "Norske Meierier",
         0.25,
         0.04375,
         0.03815290341406478
        ],
        [
         "Mozzarella di Giovanni",
         "Formaggi Fortini s.r.l.",
         0.25,
         0.02368421052631579,
         0.0325838811444201
        ],
        [
         "Grandma's Boysenberry Spread",
         "Grandma Kelly's Homestead",
         0.25,
         0.030833333333333334,
         0.02831858407079646
        ],
        [
         "Maxilaku",
         "Karkki Oy",
         0.15,
         0.030952380952380953,
         0.02688421052631579
        ],
        [
         "Valkoinen suklaa",
         "Karkki Oy",
         0.1,
         0.025,
         0.02060185185185185
        ],
        [
         "Ravioli Angelo",
         "Pasta Buttini s.r.l.",
         0.25,
         0.028260869565217398,
         0.018731268731268732
        ],
        [
         "Uncle Bob's Organic Dried Pears",
         "Grandma Kelly's Homestead",
         0.2,
         0.027586206896551727,
         0.018683226495726495
        ],
        [
         "Genen Shouyu",
         "Mayumi's",
         0.05,
         0.016666666666666666,
         0.01581196581196581
        ],
        [
         "Gustaf's Knäckebröd",
         "PB Knäckebröd AB",
         0.25,
         0.02142857142857143,
         0.015214866434378629
        ],
        [
         "Aniseed Syrup",
         "Exotic Liquids",
         0.1,
         0.016666666666666666,
         0.011688311688311689
        ],
        [
         "Schoggi Schokolade",
         "Heli Süßwaren GmbH & Co. KG",
         0.25,
         0.027777777777777776,
         0.008641630830843974
        ]
       ],
       "datasetInfos": [],
       "dbfsResultPath": null,
       "isJsonSchema": true,
       "metadata": {},
       "overflow": false,
       "plotOptions": {
        "customPlotOptions": {},
        "displayType": "table",
        "pivotAggregation": null,
        "pivotColumns": null,
        "xColumns": null,
        "yColumns": null
       },
       "removedWidgets": [],
       "schema": [
        {
         "metadata": "{}",
         "name": "ProductName",
         "type": "\"string\""
        },
        {
         "metadata": "{}",
         "name": "Company",
         "type": "\"string\""
        },
        {
         "metadata": "{}",
         "name": "MaxDiscount",
         "type": "\"double\""
        },
        {
         "metadata": "{}",
         "name": "AverageDiscount",
         "type": "\"double\""
        },
        {
         "metadata": "{}",
         "name": "PercentDiscount",
         "type": "\"double\""
        }
       ],
       "type": "table"
      }
     },
     "output_type": "display_data"
    }
   ],
   "source": [
    "%sql\n",
    "-- List the most heavily discounted products in descending order\n",
    "-- Calculated max and average discount along with % discount of the total amount ordered.\n",
    "select p.ProductName, first(s.CompanyName) as Company,\n",
    "  max(od.Discount) as MaxDiscount, avg(od.Discount) as AverageDiscount,\n",
    "  (sum(od.UnitPrice * od.Quantity  * od.Discount) / sum(od.UnitPrice * od.Quantity)) as PercentDiscount\n",
    "from products as p\n",
    "inner join suppliers as s\n",
    "  on p.SupplierID = s.SupplierID\n",
    "inner join order_details as od\n",
    "  on p.ProductID = od.ProductID\n",
    "group by p.ProductName\n",
    "order by PercentDiscount desc;"
   ]
  }
 ],
 "metadata": {
  "application/vnd.databricks.v1+notebook": {
   "dashboards": [],
   "language": "python",
   "notebookMetadata": {
    "mostRecentlyExecutedCommandWithImplicitDF": {
     "commandId": 1560242172190908,
     "dataframes": [
      "_sqldf"
     ]
    },
    "pythonIndentUnit": 2
   },
   "notebookName": "northwind_project",
   "widgets": {}
  }
 },
 "nbformat": 4,
 "nbformat_minor": 0
}
